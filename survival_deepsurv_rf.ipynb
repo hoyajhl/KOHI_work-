{
  "cells": [
    {
      "cell_type": "code",
      "execution_count": 1,
      "id": "011f907f",
      "metadata": {
        "id": "011f907f"
      },
      "outputs": [],
      "source": [
        "#from pycaret.classification import *\n",
        "import pandas as pd\n",
        "import numpy as np\n",
        "import datetime as dt\n",
        "import matplotlib.pyplot as plt\n",
        "from tqdm import tqdm\n",
        "import gc\n",
        "import random\n",
        "import lightgbm as lgb\n",
        "import re\n",
        "from sklearn.metrics import *\n",
        "from sklearn.model_selection import KFold\n",
        "from sklearn.model_selection import train_test_split\n",
        "import warnings\n",
        "warnings.filterwarnings(action='ignore')"
      ]
    },
    {
      "cell_type": "markdown",
      "source": [
        "**Column변경 **\n",
        "> a_event: all event (event+other death), composite outcome+ other death 포함\n",
        "\n",
        "> fat_ae: a_event의 duration에 해당"
      ],
      "metadata": {
        "id": "7CiMvwFwsfmj"
      },
      "id": "7CiMvwFwsfmj"
    },
    {
      "cell_type": "code",
      "source": [
        "revised_columns=['ini_nih','hct','bun','fbs','wbc','cr','ldl','pre_good_mrs','age','END','fat_eod','fat_AE','A_event'] ##exclude other event variables"
      ],
      "metadata": {
        "id": "yN1MTikAs_Kn"
      },
      "id": "yN1MTikAs_Kn",
      "execution_count": 2,
      "outputs": []
    },
    {
      "cell_type": "code",
      "source": [
        "data= pd.read_csv('df_csv_merged_v2.1.csv')"
      ],
      "metadata": {
        "id": "toBgcL-ps_HP"
      },
      "id": "toBgcL-ps_HP",
      "execution_count": 3,
      "outputs": []
    },
    {
      "cell_type": "code",
      "source": [
        "data1=data[revised_columns]"
      ],
      "metadata": {
        "id": "uX5ypkaGs_En"
      },
      "id": "uX5ypkaGs_En",
      "execution_count": 4,
      "outputs": []
    },
    {
      "cell_type": "code",
      "source": [
        "data1.shape"
      ],
      "metadata": {
        "colab": {
          "base_uri": "https://localhost:8080/"
        },
        "id": "1te8XmIXs-9f",
        "outputId": "0686adde-27ab-41f2-cf27-77201b1edd4c"
      },
      "id": "1te8XmIXs-9f",
      "execution_count": 5,
      "outputs": [
        {
          "output_type": "execute_result",
          "data": {
            "text/plain": [
              "(3340, 13)"
            ]
          },
          "metadata": {},
          "execution_count": 5
        }
      ]
    },
    {
      "cell_type": "code",
      "source": [
        "data1.head()"
      ],
      "metadata": {
        "colab": {
          "base_uri": "https://localhost:8080/",
          "height": 206
        },
        "id": "aigzXPtutjsq",
        "outputId": "57138321-75cc-45c6-a7e1-ad7d8c4fdb02"
      },
      "id": "aigzXPtutjsq",
      "execution_count": 6,
      "outputs": [
        {
          "output_type": "execute_result",
          "data": {
            "text/html": [
              "\n",
              "  <div id=\"df-6cf4af7a-18ff-41a4-baee-8f561ea24fbc\">\n",
              "    <div class=\"colab-df-container\">\n",
              "      <div>\n",
              "<style scoped>\n",
              "    .dataframe tbody tr th:only-of-type {\n",
              "        vertical-align: middle;\n",
              "    }\n",
              "\n",
              "    .dataframe tbody tr th {\n",
              "        vertical-align: top;\n",
              "    }\n",
              "\n",
              "    .dataframe thead th {\n",
              "        text-align: right;\n",
              "    }\n",
              "</style>\n",
              "<table border=\"1\" class=\"dataframe\">\n",
              "  <thead>\n",
              "    <tr style=\"text-align: right;\">\n",
              "      <th></th>\n",
              "      <th>ini_nih</th>\n",
              "      <th>hct</th>\n",
              "      <th>bun</th>\n",
              "      <th>fbs</th>\n",
              "      <th>wbc</th>\n",
              "      <th>cr</th>\n",
              "      <th>ldl</th>\n",
              "      <th>pre_good_mrs</th>\n",
              "      <th>age</th>\n",
              "      <th>END</th>\n",
              "      <th>fat_eod</th>\n",
              "      <th>fat_AE</th>\n",
              "      <th>A_event</th>\n",
              "    </tr>\n",
              "  </thead>\n",
              "  <tbody>\n",
              "    <tr>\n",
              "      <th>0</th>\n",
              "      <td>0</td>\n",
              "      <td>NaN</td>\n",
              "      <td>14.8</td>\n",
              "      <td>102.0</td>\n",
              "      <td>NaN</td>\n",
              "      <td>0.8</td>\n",
              "      <td>150.0</td>\n",
              "      <td>1.0</td>\n",
              "      <td>64</td>\n",
              "      <td>0.0</td>\n",
              "      <td>NaN</td>\n",
              "      <td>NaN</td>\n",
              "      <td>NaN</td>\n",
              "    </tr>\n",
              "    <tr>\n",
              "      <th>1</th>\n",
              "      <td>5</td>\n",
              "      <td>0.0</td>\n",
              "      <td>0.0</td>\n",
              "      <td>131.0</td>\n",
              "      <td>0.00</td>\n",
              "      <td>0.0</td>\n",
              "      <td>137.0</td>\n",
              "      <td>1.0</td>\n",
              "      <td>74</td>\n",
              "      <td>0.0</td>\n",
              "      <td>NaN</td>\n",
              "      <td>NaN</td>\n",
              "      <td>NaN</td>\n",
              "    </tr>\n",
              "    <tr>\n",
              "      <th>2</th>\n",
              "      <td>1</td>\n",
              "      <td>47.4</td>\n",
              "      <td>19.7</td>\n",
              "      <td>168.0</td>\n",
              "      <td>9.18</td>\n",
              "      <td>1.0</td>\n",
              "      <td>116.0</td>\n",
              "      <td>1.0</td>\n",
              "      <td>56</td>\n",
              "      <td>0.0</td>\n",
              "      <td>NaN</td>\n",
              "      <td>NaN</td>\n",
              "      <td>NaN</td>\n",
              "    </tr>\n",
              "    <tr>\n",
              "      <th>3</th>\n",
              "      <td>4</td>\n",
              "      <td>43.2</td>\n",
              "      <td>11.5</td>\n",
              "      <td>91.0</td>\n",
              "      <td>6.30</td>\n",
              "      <td>0.7</td>\n",
              "      <td>145.0</td>\n",
              "      <td>0.0</td>\n",
              "      <td>75</td>\n",
              "      <td>0.0</td>\n",
              "      <td>NaN</td>\n",
              "      <td>NaN</td>\n",
              "      <td>NaN</td>\n",
              "    </tr>\n",
              "    <tr>\n",
              "      <th>4</th>\n",
              "      <td>4</td>\n",
              "      <td>24.8</td>\n",
              "      <td>68.1</td>\n",
              "      <td>70.0</td>\n",
              "      <td>6.40</td>\n",
              "      <td>4.3</td>\n",
              "      <td>31.0</td>\n",
              "      <td>1.0</td>\n",
              "      <td>89</td>\n",
              "      <td>0.0</td>\n",
              "      <td>NaN</td>\n",
              "      <td>NaN</td>\n",
              "      <td>NaN</td>\n",
              "    </tr>\n",
              "  </tbody>\n",
              "</table>\n",
              "</div>\n",
              "      <button class=\"colab-df-convert\" onclick=\"convertToInteractive('df-6cf4af7a-18ff-41a4-baee-8f561ea24fbc')\"\n",
              "              title=\"Convert this dataframe to an interactive table.\"\n",
              "              style=\"display:none;\">\n",
              "        \n",
              "  <svg xmlns=\"http://www.w3.org/2000/svg\" height=\"24px\"viewBox=\"0 0 24 24\"\n",
              "       width=\"24px\">\n",
              "    <path d=\"M0 0h24v24H0V0z\" fill=\"none\"/>\n",
              "    <path d=\"M18.56 5.44l.94 2.06.94-2.06 2.06-.94-2.06-.94-.94-2.06-.94 2.06-2.06.94zm-11 1L8.5 8.5l.94-2.06 2.06-.94-2.06-.94L8.5 2.5l-.94 2.06-2.06.94zm10 10l.94 2.06.94-2.06 2.06-.94-2.06-.94-.94-2.06-.94 2.06-2.06.94z\"/><path d=\"M17.41 7.96l-1.37-1.37c-.4-.4-.92-.59-1.43-.59-.52 0-1.04.2-1.43.59L10.3 9.45l-7.72 7.72c-.78.78-.78 2.05 0 2.83L4 21.41c.39.39.9.59 1.41.59.51 0 1.02-.2 1.41-.59l7.78-7.78 2.81-2.81c.8-.78.8-2.07 0-2.86zM5.41 20L4 18.59l7.72-7.72 1.47 1.35L5.41 20z\"/>\n",
              "  </svg>\n",
              "      </button>\n",
              "      \n",
              "  <style>\n",
              "    .colab-df-container {\n",
              "      display:flex;\n",
              "      flex-wrap:wrap;\n",
              "      gap: 12px;\n",
              "    }\n",
              "\n",
              "    .colab-df-convert {\n",
              "      background-color: #E8F0FE;\n",
              "      border: none;\n",
              "      border-radius: 50%;\n",
              "      cursor: pointer;\n",
              "      display: none;\n",
              "      fill: #1967D2;\n",
              "      height: 32px;\n",
              "      padding: 0 0 0 0;\n",
              "      width: 32px;\n",
              "    }\n",
              "\n",
              "    .colab-df-convert:hover {\n",
              "      background-color: #E2EBFA;\n",
              "      box-shadow: 0px 1px 2px rgba(60, 64, 67, 0.3), 0px 1px 3px 1px rgba(60, 64, 67, 0.15);\n",
              "      fill: #174EA6;\n",
              "    }\n",
              "\n",
              "    [theme=dark] .colab-df-convert {\n",
              "      background-color: #3B4455;\n",
              "      fill: #D2E3FC;\n",
              "    }\n",
              "\n",
              "    [theme=dark] .colab-df-convert:hover {\n",
              "      background-color: #434B5C;\n",
              "      box-shadow: 0px 1px 3px 1px rgba(0, 0, 0, 0.15);\n",
              "      filter: drop-shadow(0px 1px 2px rgba(0, 0, 0, 0.3));\n",
              "      fill: #FFFFFF;\n",
              "    }\n",
              "  </style>\n",
              "\n",
              "      <script>\n",
              "        const buttonEl =\n",
              "          document.querySelector('#df-6cf4af7a-18ff-41a4-baee-8f561ea24fbc button.colab-df-convert');\n",
              "        buttonEl.style.display =\n",
              "          google.colab.kernel.accessAllowed ? 'block' : 'none';\n",
              "\n",
              "        async function convertToInteractive(key) {\n",
              "          const element = document.querySelector('#df-6cf4af7a-18ff-41a4-baee-8f561ea24fbc');\n",
              "          const dataTable =\n",
              "            await google.colab.kernel.invokeFunction('convertToInteractive',\n",
              "                                                     [key], {});\n",
              "          if (!dataTable) return;\n",
              "\n",
              "          const docLinkHtml = 'Like what you see? Visit the ' +\n",
              "            '<a target=\"_blank\" href=https://colab.research.google.com/notebooks/data_table.ipynb>data table notebook</a>'\n",
              "            + ' to learn more about interactive tables.';\n",
              "          element.innerHTML = '';\n",
              "          dataTable['output_type'] = 'display_data';\n",
              "          await google.colab.output.renderOutput(dataTable, element);\n",
              "          const docLink = document.createElement('div');\n",
              "          docLink.innerHTML = docLinkHtml;\n",
              "          element.appendChild(docLink);\n",
              "        }\n",
              "      </script>\n",
              "    </div>\n",
              "  </div>\n",
              "  "
            ],
            "text/plain": [
              "   ini_nih   hct   bun    fbs   wbc  ...  age  END  fat_eod  fat_AE  A_event\n",
              "0        0   NaN  14.8  102.0   NaN  ...   64  0.0      NaN     NaN      NaN\n",
              "1        5   0.0   0.0  131.0  0.00  ...   74  0.0      NaN     NaN      NaN\n",
              "2        1  47.4  19.7  168.0  9.18  ...   56  0.0      NaN     NaN      NaN\n",
              "3        4  43.2  11.5   91.0  6.30  ...   75  0.0      NaN     NaN      NaN\n",
              "4        4  24.8  68.1   70.0  6.40  ...   89  0.0      NaN     NaN      NaN\n",
              "\n",
              "[5 rows x 13 columns]"
            ]
          },
          "metadata": {},
          "execution_count": 6
        }
      ]
    },
    {
      "cell_type": "code",
      "source": [
        "##fat_event null\n",
        "pd.DataFrame(data1.isna().sum(axis=0).T)"
      ],
      "metadata": {
        "colab": {
          "base_uri": "https://localhost:8080/",
          "height": 457
        },
        "id": "pXlY4W8ptyBY",
        "outputId": "67e2e598-482b-49bd-d79f-b913ea527e53"
      },
      "id": "pXlY4W8ptyBY",
      "execution_count": 7,
      "outputs": [
        {
          "output_type": "execute_result",
          "data": {
            "text/html": [
              "\n",
              "  <div id=\"df-69bafbe7-c615-4583-bdef-da7ae6c60c77\">\n",
              "    <div class=\"colab-df-container\">\n",
              "      <div>\n",
              "<style scoped>\n",
              "    .dataframe tbody tr th:only-of-type {\n",
              "        vertical-align: middle;\n",
              "    }\n",
              "\n",
              "    .dataframe tbody tr th {\n",
              "        vertical-align: top;\n",
              "    }\n",
              "\n",
              "    .dataframe thead th {\n",
              "        text-align: right;\n",
              "    }\n",
              "</style>\n",
              "<table border=\"1\" class=\"dataframe\">\n",
              "  <thead>\n",
              "    <tr style=\"text-align: right;\">\n",
              "      <th></th>\n",
              "      <th>0</th>\n",
              "    </tr>\n",
              "  </thead>\n",
              "  <tbody>\n",
              "    <tr>\n",
              "      <th>ini_nih</th>\n",
              "      <td>0</td>\n",
              "    </tr>\n",
              "    <tr>\n",
              "      <th>hct</th>\n",
              "      <td>1</td>\n",
              "    </tr>\n",
              "    <tr>\n",
              "      <th>bun</th>\n",
              "      <td>2</td>\n",
              "    </tr>\n",
              "    <tr>\n",
              "      <th>fbs</th>\n",
              "      <td>44</td>\n",
              "    </tr>\n",
              "    <tr>\n",
              "      <th>wbc</th>\n",
              "      <td>1</td>\n",
              "    </tr>\n",
              "    <tr>\n",
              "      <th>cr</th>\n",
              "      <td>2</td>\n",
              "    </tr>\n",
              "    <tr>\n",
              "      <th>ldl</th>\n",
              "      <td>80</td>\n",
              "    </tr>\n",
              "    <tr>\n",
              "      <th>pre_good_mrs</th>\n",
              "      <td>1</td>\n",
              "    </tr>\n",
              "    <tr>\n",
              "      <th>age</th>\n",
              "      <td>0</td>\n",
              "    </tr>\n",
              "    <tr>\n",
              "      <th>END</th>\n",
              "      <td>1</td>\n",
              "    </tr>\n",
              "    <tr>\n",
              "      <th>fat_eod</th>\n",
              "      <td>1468</td>\n",
              "    </tr>\n",
              "    <tr>\n",
              "      <th>fat_AE</th>\n",
              "      <td>3226</td>\n",
              "    </tr>\n",
              "    <tr>\n",
              "      <th>A_event</th>\n",
              "      <td>1411</td>\n",
              "    </tr>\n",
              "  </tbody>\n",
              "</table>\n",
              "</div>\n",
              "      <button class=\"colab-df-convert\" onclick=\"convertToInteractive('df-69bafbe7-c615-4583-bdef-da7ae6c60c77')\"\n",
              "              title=\"Convert this dataframe to an interactive table.\"\n",
              "              style=\"display:none;\">\n",
              "        \n",
              "  <svg xmlns=\"http://www.w3.org/2000/svg\" height=\"24px\"viewBox=\"0 0 24 24\"\n",
              "       width=\"24px\">\n",
              "    <path d=\"M0 0h24v24H0V0z\" fill=\"none\"/>\n",
              "    <path d=\"M18.56 5.44l.94 2.06.94-2.06 2.06-.94-2.06-.94-.94-2.06-.94 2.06-2.06.94zm-11 1L8.5 8.5l.94-2.06 2.06-.94-2.06-.94L8.5 2.5l-.94 2.06-2.06.94zm10 10l.94 2.06.94-2.06 2.06-.94-2.06-.94-.94-2.06-.94 2.06-2.06.94z\"/><path d=\"M17.41 7.96l-1.37-1.37c-.4-.4-.92-.59-1.43-.59-.52 0-1.04.2-1.43.59L10.3 9.45l-7.72 7.72c-.78.78-.78 2.05 0 2.83L4 21.41c.39.39.9.59 1.41.59.51 0 1.02-.2 1.41-.59l7.78-7.78 2.81-2.81c.8-.78.8-2.07 0-2.86zM5.41 20L4 18.59l7.72-7.72 1.47 1.35L5.41 20z\"/>\n",
              "  </svg>\n",
              "      </button>\n",
              "      \n",
              "  <style>\n",
              "    .colab-df-container {\n",
              "      display:flex;\n",
              "      flex-wrap:wrap;\n",
              "      gap: 12px;\n",
              "    }\n",
              "\n",
              "    .colab-df-convert {\n",
              "      background-color: #E8F0FE;\n",
              "      border: none;\n",
              "      border-radius: 50%;\n",
              "      cursor: pointer;\n",
              "      display: none;\n",
              "      fill: #1967D2;\n",
              "      height: 32px;\n",
              "      padding: 0 0 0 0;\n",
              "      width: 32px;\n",
              "    }\n",
              "\n",
              "    .colab-df-convert:hover {\n",
              "      background-color: #E2EBFA;\n",
              "      box-shadow: 0px 1px 2px rgba(60, 64, 67, 0.3), 0px 1px 3px 1px rgba(60, 64, 67, 0.15);\n",
              "      fill: #174EA6;\n",
              "    }\n",
              "\n",
              "    [theme=dark] .colab-df-convert {\n",
              "      background-color: #3B4455;\n",
              "      fill: #D2E3FC;\n",
              "    }\n",
              "\n",
              "    [theme=dark] .colab-df-convert:hover {\n",
              "      background-color: #434B5C;\n",
              "      box-shadow: 0px 1px 3px 1px rgba(0, 0, 0, 0.15);\n",
              "      filter: drop-shadow(0px 1px 2px rgba(0, 0, 0, 0.3));\n",
              "      fill: #FFFFFF;\n",
              "    }\n",
              "  </style>\n",
              "\n",
              "      <script>\n",
              "        const buttonEl =\n",
              "          document.querySelector('#df-69bafbe7-c615-4583-bdef-da7ae6c60c77 button.colab-df-convert');\n",
              "        buttonEl.style.display =\n",
              "          google.colab.kernel.accessAllowed ? 'block' : 'none';\n",
              "\n",
              "        async function convertToInteractive(key) {\n",
              "          const element = document.querySelector('#df-69bafbe7-c615-4583-bdef-da7ae6c60c77');\n",
              "          const dataTable =\n",
              "            await google.colab.kernel.invokeFunction('convertToInteractive',\n",
              "                                                     [key], {});\n",
              "          if (!dataTable) return;\n",
              "\n",
              "          const docLinkHtml = 'Like what you see? Visit the ' +\n",
              "            '<a target=\"_blank\" href=https://colab.research.google.com/notebooks/data_table.ipynb>data table notebook</a>'\n",
              "            + ' to learn more about interactive tables.';\n",
              "          element.innerHTML = '';\n",
              "          dataTable['output_type'] = 'display_data';\n",
              "          await google.colab.output.renderOutput(dataTable, element);\n",
              "          const docLink = document.createElement('div');\n",
              "          docLink.innerHTML = docLinkHtml;\n",
              "          element.appendChild(docLink);\n",
              "        }\n",
              "      </script>\n",
              "    </div>\n",
              "  </div>\n",
              "  "
            ],
            "text/plain": [
              "                 0\n",
              "ini_nih          0\n",
              "hct              1\n",
              "bun              2\n",
              "fbs             44\n",
              "wbc              1\n",
              "cr               2\n",
              "ldl             80\n",
              "pre_good_mrs     1\n",
              "age              0\n",
              "END              1\n",
              "fat_eod       1468\n",
              "fat_AE        3226\n",
              "A_event       1411"
            ]
          },
          "metadata": {},
          "execution_count": 7
        }
      ]
    },
    {
      "cell_type": "markdown",
      "source": [
        "**Idea **\n",
        "\n",
        "> IF event=0, save index and then value of fat_eod(duration) into fat_AE "
      ],
      "metadata": {
        "id": "fvDXOJWdu1US"
      },
      "id": "fvDXOJWdu1US"
    },
    {
      "cell_type": "code",
      "source": [
        "## save index \n",
        "survive_index=data1[data1['A_event']==0].index"
      ],
      "metadata": {
        "id": "MDnFQG_gtx-N"
      },
      "id": "MDnFQG_gtx-N",
      "execution_count": 8,
      "outputs": []
    },
    {
      "cell_type": "code",
      "source": [
        "len(survive_index)  ## 2946"
      ],
      "metadata": {
        "colab": {
          "base_uri": "https://localhost:8080/"
        },
        "id": "zz08JoqJtx65",
        "outputId": "8fab3d57-8154-4d5d-998e-9387ffd0547d"
      },
      "id": "zz08JoqJtx65",
      "execution_count": 9,
      "outputs": [
        {
          "output_type": "execute_result",
          "data": {
            "text/plain": [
              "1815"
            ]
          },
          "metadata": {},
          "execution_count": 9
        }
      ]
    },
    {
      "cell_type": "code",
      "source": [
        "##list format\n",
        "a=data1.loc[survive_index,'fat_eod']\n",
        "a=a.to_list()\n",
        "len(a)"
      ],
      "metadata": {
        "colab": {
          "base_uri": "https://localhost:8080/"
        },
        "id": "xII1nFRStx4N",
        "outputId": "7dff2eb3-f4c6-440b-fbba-16db78521910"
      },
      "id": "xII1nFRStx4N",
      "execution_count": 10,
      "outputs": [
        {
          "output_type": "execute_result",
          "data": {
            "text/plain": [
              "1815"
            ]
          },
          "metadata": {},
          "execution_count": 10
        }
      ]
    },
    {
      "cell_type": "code",
      "source": [
        "##해당하는 위치 index에 fat_eod list값 반환 \n",
        "data1.loc[survive_index,'fat_AE']=a"
      ],
      "metadata": {
        "id": "NqQ5-VT1tx1V"
      },
      "id": "NqQ5-VT1tx1V",
      "execution_count": 11,
      "outputs": []
    },
    {
      "cell_type": "code",
      "source": [
        "##fat_event null\n",
        "pd.DataFrame(data1.isna().sum(axis=0).T)"
      ],
      "metadata": {
        "colab": {
          "base_uri": "https://localhost:8080/",
          "height": 457
        },
        "id": "T9zoz2pwtxyS",
        "outputId": "aece5687-fdb5-4fa0-c4be-14d9d75afb40"
      },
      "id": "T9zoz2pwtxyS",
      "execution_count": 12,
      "outputs": [
        {
          "output_type": "execute_result",
          "data": {
            "text/html": [
              "\n",
              "  <div id=\"df-34855065-b2c0-41dc-93f8-be81755ed48a\">\n",
              "    <div class=\"colab-df-container\">\n",
              "      <div>\n",
              "<style scoped>\n",
              "    .dataframe tbody tr th:only-of-type {\n",
              "        vertical-align: middle;\n",
              "    }\n",
              "\n",
              "    .dataframe tbody tr th {\n",
              "        vertical-align: top;\n",
              "    }\n",
              "\n",
              "    .dataframe thead th {\n",
              "        text-align: right;\n",
              "    }\n",
              "</style>\n",
              "<table border=\"1\" class=\"dataframe\">\n",
              "  <thead>\n",
              "    <tr style=\"text-align: right;\">\n",
              "      <th></th>\n",
              "      <th>0</th>\n",
              "    </tr>\n",
              "  </thead>\n",
              "  <tbody>\n",
              "    <tr>\n",
              "      <th>ini_nih</th>\n",
              "      <td>0</td>\n",
              "    </tr>\n",
              "    <tr>\n",
              "      <th>hct</th>\n",
              "      <td>1</td>\n",
              "    </tr>\n",
              "    <tr>\n",
              "      <th>bun</th>\n",
              "      <td>2</td>\n",
              "    </tr>\n",
              "    <tr>\n",
              "      <th>fbs</th>\n",
              "      <td>44</td>\n",
              "    </tr>\n",
              "    <tr>\n",
              "      <th>wbc</th>\n",
              "      <td>1</td>\n",
              "    </tr>\n",
              "    <tr>\n",
              "      <th>cr</th>\n",
              "      <td>2</td>\n",
              "    </tr>\n",
              "    <tr>\n",
              "      <th>ldl</th>\n",
              "      <td>80</td>\n",
              "    </tr>\n",
              "    <tr>\n",
              "      <th>pre_good_mrs</th>\n",
              "      <td>1</td>\n",
              "    </tr>\n",
              "    <tr>\n",
              "      <th>age</th>\n",
              "      <td>0</td>\n",
              "    </tr>\n",
              "    <tr>\n",
              "      <th>END</th>\n",
              "      <td>1</td>\n",
              "    </tr>\n",
              "    <tr>\n",
              "      <th>fat_eod</th>\n",
              "      <td>1468</td>\n",
              "    </tr>\n",
              "    <tr>\n",
              "      <th>fat_AE</th>\n",
              "      <td>1411</td>\n",
              "    </tr>\n",
              "    <tr>\n",
              "      <th>A_event</th>\n",
              "      <td>1411</td>\n",
              "    </tr>\n",
              "  </tbody>\n",
              "</table>\n",
              "</div>\n",
              "      <button class=\"colab-df-convert\" onclick=\"convertToInteractive('df-34855065-b2c0-41dc-93f8-be81755ed48a')\"\n",
              "              title=\"Convert this dataframe to an interactive table.\"\n",
              "              style=\"display:none;\">\n",
              "        \n",
              "  <svg xmlns=\"http://www.w3.org/2000/svg\" height=\"24px\"viewBox=\"0 0 24 24\"\n",
              "       width=\"24px\">\n",
              "    <path d=\"M0 0h24v24H0V0z\" fill=\"none\"/>\n",
              "    <path d=\"M18.56 5.44l.94 2.06.94-2.06 2.06-.94-2.06-.94-.94-2.06-.94 2.06-2.06.94zm-11 1L8.5 8.5l.94-2.06 2.06-.94-2.06-.94L8.5 2.5l-.94 2.06-2.06.94zm10 10l.94 2.06.94-2.06 2.06-.94-2.06-.94-.94-2.06-.94 2.06-2.06.94z\"/><path d=\"M17.41 7.96l-1.37-1.37c-.4-.4-.92-.59-1.43-.59-.52 0-1.04.2-1.43.59L10.3 9.45l-7.72 7.72c-.78.78-.78 2.05 0 2.83L4 21.41c.39.39.9.59 1.41.59.51 0 1.02-.2 1.41-.59l7.78-7.78 2.81-2.81c.8-.78.8-2.07 0-2.86zM5.41 20L4 18.59l7.72-7.72 1.47 1.35L5.41 20z\"/>\n",
              "  </svg>\n",
              "      </button>\n",
              "      \n",
              "  <style>\n",
              "    .colab-df-container {\n",
              "      display:flex;\n",
              "      flex-wrap:wrap;\n",
              "      gap: 12px;\n",
              "    }\n",
              "\n",
              "    .colab-df-convert {\n",
              "      background-color: #E8F0FE;\n",
              "      border: none;\n",
              "      border-radius: 50%;\n",
              "      cursor: pointer;\n",
              "      display: none;\n",
              "      fill: #1967D2;\n",
              "      height: 32px;\n",
              "      padding: 0 0 0 0;\n",
              "      width: 32px;\n",
              "    }\n",
              "\n",
              "    .colab-df-convert:hover {\n",
              "      background-color: #E2EBFA;\n",
              "      box-shadow: 0px 1px 2px rgba(60, 64, 67, 0.3), 0px 1px 3px 1px rgba(60, 64, 67, 0.15);\n",
              "      fill: #174EA6;\n",
              "    }\n",
              "\n",
              "    [theme=dark] .colab-df-convert {\n",
              "      background-color: #3B4455;\n",
              "      fill: #D2E3FC;\n",
              "    }\n",
              "\n",
              "    [theme=dark] .colab-df-convert:hover {\n",
              "      background-color: #434B5C;\n",
              "      box-shadow: 0px 1px 3px 1px rgba(0, 0, 0, 0.15);\n",
              "      filter: drop-shadow(0px 1px 2px rgba(0, 0, 0, 0.3));\n",
              "      fill: #FFFFFF;\n",
              "    }\n",
              "  </style>\n",
              "\n",
              "      <script>\n",
              "        const buttonEl =\n",
              "          document.querySelector('#df-34855065-b2c0-41dc-93f8-be81755ed48a button.colab-df-convert');\n",
              "        buttonEl.style.display =\n",
              "          google.colab.kernel.accessAllowed ? 'block' : 'none';\n",
              "\n",
              "        async function convertToInteractive(key) {\n",
              "          const element = document.querySelector('#df-34855065-b2c0-41dc-93f8-be81755ed48a');\n",
              "          const dataTable =\n",
              "            await google.colab.kernel.invokeFunction('convertToInteractive',\n",
              "                                                     [key], {});\n",
              "          if (!dataTable) return;\n",
              "\n",
              "          const docLinkHtml = 'Like what you see? Visit the ' +\n",
              "            '<a target=\"_blank\" href=https://colab.research.google.com/notebooks/data_table.ipynb>data table notebook</a>'\n",
              "            + ' to learn more about interactive tables.';\n",
              "          element.innerHTML = '';\n",
              "          dataTable['output_type'] = 'display_data';\n",
              "          await google.colab.output.renderOutput(dataTable, element);\n",
              "          const docLink = document.createElement('div');\n",
              "          docLink.innerHTML = docLinkHtml;\n",
              "          element.appendChild(docLink);\n",
              "        }\n",
              "      </script>\n",
              "    </div>\n",
              "  </div>\n",
              "  "
            ],
            "text/plain": [
              "                 0\n",
              "ini_nih          0\n",
              "hct              1\n",
              "bun              2\n",
              "fbs             44\n",
              "wbc              1\n",
              "cr               2\n",
              "ldl             80\n",
              "pre_good_mrs     1\n",
              "age              0\n",
              "END              1\n",
              "fat_eod       1468\n",
              "fat_AE        1411\n",
              "A_event       1411"
            ]
          },
          "metadata": {},
          "execution_count": 12
        }
      ]
    },
    {
      "cell_type": "markdown",
      "source": [
        "### Reset data with only fat_AE (duration), A_event (event)"
      ],
      "metadata": {
        "id": "ypJY6LZexQge"
      },
      "id": "ypJY6LZexQge"
    },
    {
      "cell_type": "code",
      "source": [
        "data1.shape"
      ],
      "metadata": {
        "colab": {
          "base_uri": "https://localhost:8080/"
        },
        "id": "6C9d9YvdwwmR",
        "outputId": "79fd45d3-8131-4908-d1b0-266767ae001a"
      },
      "id": "6C9d9YvdwwmR",
      "execution_count": 13,
      "outputs": [
        {
          "output_type": "execute_result",
          "data": {
            "text/plain": [
              "(3340, 13)"
            ]
          },
          "metadata": {},
          "execution_count": 13
        }
      ]
    },
    {
      "cell_type": "code",
      "source": [
        "## drop rows(ID) who have missing value\n",
        "data2=data1.dropna(axis=0,how='any',subset=['ini_nih','hct','bun','fbs','wbc','cr','ldl','pre_good_mrs','age','END'])"
      ],
      "metadata": {
        "id": "VEtpQnxvwwjX"
      },
      "id": "VEtpQnxvwwjX",
      "execution_count": 14,
      "outputs": []
    },
    {
      "cell_type": "code",
      "source": [
        "selected_columns=['ini_nih','hct','bun','fbs','wbc','cr','ldl','pre_good_mrs','age','END','A_event','fat_AE'] ##exclude other event variables"
      ],
      "metadata": {
        "id": "PH1cF-xxwwg2"
      },
      "id": "PH1cF-xxwwg2",
      "execution_count": 15,
      "outputs": []
    },
    {
      "cell_type": "code",
      "source": [
        "data2=data2[selected_columns]\n",
        "data2.shape"
      ],
      "metadata": {
        "colab": {
          "base_uri": "https://localhost:8080/"
        },
        "id": "GxdRN0DfyVig",
        "outputId": "b19b5956-b0ee-4c3b-ed29-824711a9defa"
      },
      "id": "GxdRN0DfyVig",
      "execution_count": 16,
      "outputs": [
        {
          "output_type": "execute_result",
          "data": {
            "text/plain": [
              "(3215, 12)"
            ]
          },
          "metadata": {},
          "execution_count": 16
        }
      ]
    },
    {
      "cell_type": "code",
      "source": [
        "## A_event has more missing values than a number of fat_AE (standard point)\n",
        "data3=data2.dropna(axis=0,how='any',subset=['A_event'])"
      ],
      "metadata": {
        "id": "8Koj6nOcyVfv"
      },
      "id": "8Koj6nOcyVfv",
      "execution_count": 17,
      "outputs": []
    },
    {
      "cell_type": "code",
      "source": [
        "##fat_event null\n",
        "pd.DataFrame(data3.isna().sum(axis=0).T)"
      ],
      "metadata": {
        "colab": {
          "base_uri": "https://localhost:8080/",
          "height": 426
        },
        "id": "vdbdHXsEyVdA",
        "outputId": "f8b5ed7c-399b-4c07-b48e-5ee988c35637"
      },
      "id": "vdbdHXsEyVdA",
      "execution_count": 18,
      "outputs": [
        {
          "output_type": "execute_result",
          "data": {
            "text/html": [
              "\n",
              "  <div id=\"df-fc1b8fef-0d74-44a8-a364-21e061e656b9\">\n",
              "    <div class=\"colab-df-container\">\n",
              "      <div>\n",
              "<style scoped>\n",
              "    .dataframe tbody tr th:only-of-type {\n",
              "        vertical-align: middle;\n",
              "    }\n",
              "\n",
              "    .dataframe tbody tr th {\n",
              "        vertical-align: top;\n",
              "    }\n",
              "\n",
              "    .dataframe thead th {\n",
              "        text-align: right;\n",
              "    }\n",
              "</style>\n",
              "<table border=\"1\" class=\"dataframe\">\n",
              "  <thead>\n",
              "    <tr style=\"text-align: right;\">\n",
              "      <th></th>\n",
              "      <th>0</th>\n",
              "    </tr>\n",
              "  </thead>\n",
              "  <tbody>\n",
              "    <tr>\n",
              "      <th>ini_nih</th>\n",
              "      <td>0</td>\n",
              "    </tr>\n",
              "    <tr>\n",
              "      <th>hct</th>\n",
              "      <td>0</td>\n",
              "    </tr>\n",
              "    <tr>\n",
              "      <th>bun</th>\n",
              "      <td>0</td>\n",
              "    </tr>\n",
              "    <tr>\n",
              "      <th>fbs</th>\n",
              "      <td>0</td>\n",
              "    </tr>\n",
              "    <tr>\n",
              "      <th>wbc</th>\n",
              "      <td>0</td>\n",
              "    </tr>\n",
              "    <tr>\n",
              "      <th>cr</th>\n",
              "      <td>0</td>\n",
              "    </tr>\n",
              "    <tr>\n",
              "      <th>ldl</th>\n",
              "      <td>0</td>\n",
              "    </tr>\n",
              "    <tr>\n",
              "      <th>pre_good_mrs</th>\n",
              "      <td>0</td>\n",
              "    </tr>\n",
              "    <tr>\n",
              "      <th>age</th>\n",
              "      <td>0</td>\n",
              "    </tr>\n",
              "    <tr>\n",
              "      <th>END</th>\n",
              "      <td>0</td>\n",
              "    </tr>\n",
              "    <tr>\n",
              "      <th>A_event</th>\n",
              "      <td>0</td>\n",
              "    </tr>\n",
              "    <tr>\n",
              "      <th>fat_AE</th>\n",
              "      <td>0</td>\n",
              "    </tr>\n",
              "  </tbody>\n",
              "</table>\n",
              "</div>\n",
              "      <button class=\"colab-df-convert\" onclick=\"convertToInteractive('df-fc1b8fef-0d74-44a8-a364-21e061e656b9')\"\n",
              "              title=\"Convert this dataframe to an interactive table.\"\n",
              "              style=\"display:none;\">\n",
              "        \n",
              "  <svg xmlns=\"http://www.w3.org/2000/svg\" height=\"24px\"viewBox=\"0 0 24 24\"\n",
              "       width=\"24px\">\n",
              "    <path d=\"M0 0h24v24H0V0z\" fill=\"none\"/>\n",
              "    <path d=\"M18.56 5.44l.94 2.06.94-2.06 2.06-.94-2.06-.94-.94-2.06-.94 2.06-2.06.94zm-11 1L8.5 8.5l.94-2.06 2.06-.94-2.06-.94L8.5 2.5l-.94 2.06-2.06.94zm10 10l.94 2.06.94-2.06 2.06-.94-2.06-.94-.94-2.06-.94 2.06-2.06.94z\"/><path d=\"M17.41 7.96l-1.37-1.37c-.4-.4-.92-.59-1.43-.59-.52 0-1.04.2-1.43.59L10.3 9.45l-7.72 7.72c-.78.78-.78 2.05 0 2.83L4 21.41c.39.39.9.59 1.41.59.51 0 1.02-.2 1.41-.59l7.78-7.78 2.81-2.81c.8-.78.8-2.07 0-2.86zM5.41 20L4 18.59l7.72-7.72 1.47 1.35L5.41 20z\"/>\n",
              "  </svg>\n",
              "      </button>\n",
              "      \n",
              "  <style>\n",
              "    .colab-df-container {\n",
              "      display:flex;\n",
              "      flex-wrap:wrap;\n",
              "      gap: 12px;\n",
              "    }\n",
              "\n",
              "    .colab-df-convert {\n",
              "      background-color: #E8F0FE;\n",
              "      border: none;\n",
              "      border-radius: 50%;\n",
              "      cursor: pointer;\n",
              "      display: none;\n",
              "      fill: #1967D2;\n",
              "      height: 32px;\n",
              "      padding: 0 0 0 0;\n",
              "      width: 32px;\n",
              "    }\n",
              "\n",
              "    .colab-df-convert:hover {\n",
              "      background-color: #E2EBFA;\n",
              "      box-shadow: 0px 1px 2px rgba(60, 64, 67, 0.3), 0px 1px 3px 1px rgba(60, 64, 67, 0.15);\n",
              "      fill: #174EA6;\n",
              "    }\n",
              "\n",
              "    [theme=dark] .colab-df-convert {\n",
              "      background-color: #3B4455;\n",
              "      fill: #D2E3FC;\n",
              "    }\n",
              "\n",
              "    [theme=dark] .colab-df-convert:hover {\n",
              "      background-color: #434B5C;\n",
              "      box-shadow: 0px 1px 3px 1px rgba(0, 0, 0, 0.15);\n",
              "      filter: drop-shadow(0px 1px 2px rgba(0, 0, 0, 0.3));\n",
              "      fill: #FFFFFF;\n",
              "    }\n",
              "  </style>\n",
              "\n",
              "      <script>\n",
              "        const buttonEl =\n",
              "          document.querySelector('#df-fc1b8fef-0d74-44a8-a364-21e061e656b9 button.colab-df-convert');\n",
              "        buttonEl.style.display =\n",
              "          google.colab.kernel.accessAllowed ? 'block' : 'none';\n",
              "\n",
              "        async function convertToInteractive(key) {\n",
              "          const element = document.querySelector('#df-fc1b8fef-0d74-44a8-a364-21e061e656b9');\n",
              "          const dataTable =\n",
              "            await google.colab.kernel.invokeFunction('convertToInteractive',\n",
              "                                                     [key], {});\n",
              "          if (!dataTable) return;\n",
              "\n",
              "          const docLinkHtml = 'Like what you see? Visit the ' +\n",
              "            '<a target=\"_blank\" href=https://colab.research.google.com/notebooks/data_table.ipynb>data table notebook</a>'\n",
              "            + ' to learn more about interactive tables.';\n",
              "          element.innerHTML = '';\n",
              "          dataTable['output_type'] = 'display_data';\n",
              "          await google.colab.output.renderOutput(dataTable, element);\n",
              "          const docLink = document.createElement('div');\n",
              "          docLink.innerHTML = docLinkHtml;\n",
              "          element.appendChild(docLink);\n",
              "        }\n",
              "      </script>\n",
              "    </div>\n",
              "  </div>\n",
              "  "
            ],
            "text/plain": [
              "              0\n",
              "ini_nih       0\n",
              "hct           0\n",
              "bun           0\n",
              "fbs           0\n",
              "wbc           0\n",
              "cr            0\n",
              "ldl           0\n",
              "pre_good_mrs  0\n",
              "age           0\n",
              "END           0\n",
              "A_event       0\n",
              "fat_AE        0"
            ]
          },
          "metadata": {},
          "execution_count": 18
        }
      ]
    },
    {
      "cell_type": "markdown",
      "source": [
        "**Visualization**"
      ],
      "metadata": {
        "id": "0AJg6wV1zuVy"
      },
      "id": "0AJg6wV1zuVy"
    },
    {
      "cell_type": "code",
      "source": [
        "import seaborn as sns"
      ],
      "metadata": {
        "id": "Vyd1CB0EzqiC"
      },
      "id": "Vyd1CB0EzqiC",
      "execution_count": 19,
      "outputs": []
    },
    {
      "cell_type": "code",
      "source": [
        "from matplotlib.pyplot import figure\n",
        "sns.set_theme(style=\"darkgrid\")\n",
        "splot=sns.countplot(x=\"A_event\",data=data3,palette=\"Set3\")\n",
        "for p in splot.patches:\n",
        "    splot.annotate(format(p.get_height(), '.2f'),\n",
        "               (p.get_x() + p.get_width() / 2., p.get_height()), \n",
        "               ha = 'center', va = 'center', \n",
        "               xytext = (0, 10), textcoords = 'offset points')\n",
        "plt.rcParams[\"figure.figsize\"] = (10,10)\n",
        "plt.title(\"Distribution\")\n",
        "plt.show()\n",
        "figure(figsize=(8, 6), dpi=80)"
      ],
      "metadata": {
        "colab": {
          "base_uri": "https://localhost:8080/",
          "height": 338
        },
        "id": "totHJ7mEzqfi",
        "outputId": "724b0bf8-93e3-4168-da0a-f937e282e52e"
      },
      "id": "totHJ7mEzqfi",
      "execution_count": 20,
      "outputs": [
        {
          "output_type": "display_data",
          "data": {
            "image/png": "[encoded data removed]",
            "text/plain": [
              "<Figure size 432x288 with 1 Axes>"
            ]
          },
          "metadata": {}
        },
        {
          "output_type": "execute_result",
          "data": {
            "text/plain": [
              "<Figure size 640x480 with 0 Axes>"
            ]
          },
          "metadata": {},
          "execution_count": 20
        },
        {
          "output_type": "display_data",
          "data": {
            "text/plain": [
              "<Figure size 640x480 with 0 Axes>"
            ]
          },
          "metadata": {}
        }
      ]
    },
    {
      "cell_type": "code",
      "source": [
        "data3[data3['A_event'] == 0]['fat_AE'].hist(bins=35, color='skyblue', label='Alive', alpha=0.6)\n",
        "data3[data3['A_event'] == 1]['fat_AE'].hist(bins=35, color='red', label='Death', alpha=0.6)\n",
        "plt.legend()\n",
        "plt.xlabel(\"Duration\")\n",
        "plt.ylabel(\"Frequency\")\n",
        "plt.show()\n",
        "figure(figsize=(8, 6), dpi=80)"
      ],
      "metadata": {
        "colab": {
          "base_uri": "https://localhost:8080/",
          "height": 647
        },
        "id": "tLe4buctzqce",
        "outputId": "75a9c8aa-1243-491a-f521-f6427f9361fd"
      },
      "id": "tLe4buctzqce",
      "execution_count": 21,
      "outputs": [
        {
          "output_type": "display_data",
          "data": {
            "image/png": "[encoded data removed]",
            "text/plain": [
              "<Figure size 720x720 with 1 Axes>"
            ]
          },
          "metadata": {}
        },
        {
          "output_type": "execute_result",
          "data": {
            "text/plain": [
              "<Figure size 640x480 with 0 Axes>"
            ]
          },
          "metadata": {},
          "execution_count": 21
        },
        {
          "output_type": "display_data",
          "data": {
            "text/plain": [
              "<Figure size 640x480 with 0 Axes>"
            ]
          },
          "metadata": {}
        }
      ]
    },
    {
      "cell_type": "markdown",
      "source": [
        "Standard methods in Survival Analysis\n",
        "> 1. Kaplan Meier"
      ],
      "metadata": {
        "id": "cRaYc25C4VKY"
      },
      "id": "cRaYc25C4VKY"
    },
    {
      "cell_type": "code",
      "source": [
        "columns_stratify=['ini_nih','hct','bun','fbs','wbc','cr','ldl','pre_good_mrs','age','END']\n",
        "target=['A_event']"
      ],
      "metadata": {
        "id": "fAb_d1CPV2ba"
      },
      "id": "fAb_d1CPV2ba",
      "execution_count": 313,
      "outputs": []
    },
    {
      "cell_type": "code",
      "source": [
        "# splitting to X, y format\n",
        "X = data3[columns_stratify]\n",
        "y = data3[target]"
      ],
      "metadata": {
        "id": "p9paPtGZV2YG"
      },
      "id": "p9paPtGZV2YG",
      "execution_count": 314,
      "outputs": []
    },
    {
      "cell_type": "code",
      "source": [
        "# splitting between train, and validation \n",
        "(X_train, X_valid, y_train, y_valid) = train_test_split(X, y, test_size=0.3, random_state=42,stratify=y)\n",
        "(X_valid, X_test, y_valid, y_test) = train_test_split(X_valid, y_valid, test_size=0.4, random_state=42,stratify=y_valid)"
      ],
      "metadata": {
        "id": "oNSs1hnkV2VO"
      },
      "id": "oNSs1hnkV2VO",
      "execution_count": 315,
      "outputs": []
    },
    {
      "cell_type": "code",
      "source": [
        "y_train_time=data3.loc[y_train.index,'fat_AE']\n",
        "y_valid_time=data3.loc[y_valid.index,'fat_AE']\n",
        "y_test_time=data3.loc[y_test.index,'fat_AE']"
      ],
      "metadata": {
        "id": "PlKrqbrIWBO1"
      },
      "id": "PlKrqbrIWBO1",
      "execution_count": 316,
      "outputs": []
    },
    {
      "cell_type": "code",
      "source": [
        "##DF 형태 변환\n",
        "y_train_time=pd.DataFrame(y_train_time)\n",
        "y_valid_time=pd.DataFrame(y_valid_time)\n",
        "y_test_time=pd.DataFrame(y_test_time)"
      ],
      "metadata": {
        "id": "4JNIXJb0WGZ4"
      },
      "id": "4JNIXJb0WGZ4",
      "execution_count": 317,
      "outputs": []
    },
    {
      "cell_type": "code",
      "source": [
        "##time, event  concat\n",
        "y_train=pd.concat([y_train,y_train_time],axis=1)\n",
        "y_valid=pd.concat([y_valid,y_valid_time],axis=1)\n",
        "y_test=pd.concat([y_test,y_test_time],axis=1)"
      ],
      "metadata": {
        "id": "eAZt-1ZhWGUY"
      },
      "id": "eAZt-1ZhWGUY",
      "execution_count": 318,
      "outputs": []
    },
    {
      "cell_type": "code",
      "source": [
        "from lifelines import KaplanMeierFitter\n",
        "\n",
        "kmf = KaplanMeierFitter()\n",
        "kmf.fit(y_train[\"fat_AE\"], y_train[\"A_event\"])"
      ],
      "metadata": {
        "colab": {
          "base_uri": "https://localhost:8080/"
        },
        "id": "KenbE5aiWe5x",
        "outputId": "2334013c-cd2f-456a-dcba-f727c643aee1"
      },
      "id": "KenbE5aiWe5x",
      "execution_count": 319,
      "outputs": [
        {
          "output_type": "execute_result",
          "data": {
            "text/plain": [
              "<lifelines.KaplanMeierFitter:\"KM_estimate\", fitted with 1266 total observations, 1193 right-censored observations>"
            ]
          },
          "metadata": {},
          "execution_count": 319
        }
      ]
    },
    {
      "cell_type": "code",
      "source": [
        "plot = kmf.plot_survival_function()\n",
        "plot.set_xlabel('time (days)')\n",
        "plot.set_ylabel('survival function, $\\hat{S}(t)$')\n",
        "plot"
      ],
      "metadata": {
        "colab": {
          "base_uri": "https://localhost:8080/",
          "height": 303
        },
        "id": "HqkQOeSAV8UP",
        "outputId": "32619dbd-bcef-47a5-e624-222a74d8b65b"
      },
      "id": "HqkQOeSAV8UP",
      "execution_count": 320,
      "outputs": [
        {
          "output_type": "execute_result",
          "data": {
            "text/plain": [
              "<matplotlib.axes._subplots.AxesSubplot at 0x7facb1a013d0>"
            ]
          },
          "metadata": {},
          "execution_count": 320
        },
        {
          "output_type": "display_data",
          "data": {
            "image/png": "[encoded data removed]",
            "text/plain": [
              "<Figure size 432x288 with 1 Axes>"
            ]
          },
          "metadata": {
            "needs_background": "light"
          }
        }
      ]
    },
    {
      "cell_type": "markdown",
      "source": [
        "##### The estimated S(t) can be plotted as a stepwise function of overall population of individuals. As an example, in the plot below, it is clear that for time t=400days, the probability that borrowers survive beyond this time is about 85%"
      ],
      "metadata": {
        "id": "ddlIDe7GW_xx"
      },
      "id": "ddlIDe7GW_xx"
    },
    {
      "cell_type": "markdown",
      "source": [
        ">2. Cox proportional hazards Model\n",
        "\n",
        "\n",
        "*   Semi-parametric methods\n",
        "\n"
      ],
      "metadata": {
        "id": "NeU7FgW2XQsw"
      },
      "id": "NeU7FgW2XQsw"
    },
    {
      "cell_type": "code",
      "source": [
        "data3.head()"
      ],
      "metadata": {
        "colab": {
          "base_uri": "https://localhost:8080/",
          "height": 206
        },
        "id": "geIf2iTGY2kD",
        "outputId": "cb34b327-b035-4b8b-fe35-eeafdc2c8552"
      },
      "id": "geIf2iTGY2kD",
      "execution_count": 322,
      "outputs": [
        {
          "output_type": "execute_result",
          "data": {
            "text/html": [
              "\n",
              "  <div id=\"df-3682aa8f-68b2-4a6c-9f2a-00aec13f78e8\">\n",
              "    <div class=\"colab-df-container\">\n",
              "      <div>\n",
              "<style scoped>\n",
              "    .dataframe tbody tr th:only-of-type {\n",
              "        vertical-align: middle;\n",
              "    }\n",
              "\n",
              "    .dataframe tbody tr th {\n",
              "        vertical-align: top;\n",
              "    }\n",
              "\n",
              "    .dataframe thead th {\n",
              "        text-align: right;\n",
              "    }\n",
              "</style>\n",
              "<table border=\"1\" class=\"dataframe\">\n",
              "  <thead>\n",
              "    <tr style=\"text-align: right;\">\n",
              "      <th></th>\n",
              "      <th>ini_nih</th>\n",
              "      <th>hct</th>\n",
              "      <th>bun</th>\n",
              "      <th>fbs</th>\n",
              "      <th>wbc</th>\n",
              "      <th>cr</th>\n",
              "      <th>ldl</th>\n",
              "      <th>pre_good_mrs</th>\n",
              "      <th>age</th>\n",
              "      <th>END</th>\n",
              "      <th>A_event</th>\n",
              "      <th>fat_AE</th>\n",
              "    </tr>\n",
              "  </thead>\n",
              "  <tbody>\n",
              "    <tr>\n",
              "      <th>10</th>\n",
              "      <td>0</td>\n",
              "      <td>36.5</td>\n",
              "      <td>17.2</td>\n",
              "      <td>149.0</td>\n",
              "      <td>4.6</td>\n",
              "      <td>0.70</td>\n",
              "      <td>59.0</td>\n",
              "      <td>1.0</td>\n",
              "      <td>50</td>\n",
              "      <td>0.0</td>\n",
              "      <td>0.0</td>\n",
              "      <td>372.0</td>\n",
              "    </tr>\n",
              "    <tr>\n",
              "      <th>11</th>\n",
              "      <td>2</td>\n",
              "      <td>32.4</td>\n",
              "      <td>10.2</td>\n",
              "      <td>110.0</td>\n",
              "      <td>4.2</td>\n",
              "      <td>0.70</td>\n",
              "      <td>95.0</td>\n",
              "      <td>1.0</td>\n",
              "      <td>66</td>\n",
              "      <td>0.0</td>\n",
              "      <td>0.0</td>\n",
              "      <td>409.0</td>\n",
              "    </tr>\n",
              "    <tr>\n",
              "      <th>13</th>\n",
              "      <td>10</td>\n",
              "      <td>43.8</td>\n",
              "      <td>15.3</td>\n",
              "      <td>98.0</td>\n",
              "      <td>4.7</td>\n",
              "      <td>0.50</td>\n",
              "      <td>64.0</td>\n",
              "      <td>1.0</td>\n",
              "      <td>70</td>\n",
              "      <td>0.0</td>\n",
              "      <td>0.0</td>\n",
              "      <td>364.0</td>\n",
              "    </tr>\n",
              "    <tr>\n",
              "      <th>14</th>\n",
              "      <td>1</td>\n",
              "      <td>27.5</td>\n",
              "      <td>27.1</td>\n",
              "      <td>227.0</td>\n",
              "      <td>4.7</td>\n",
              "      <td>6.01</td>\n",
              "      <td>37.0</td>\n",
              "      <td>1.0</td>\n",
              "      <td>51</td>\n",
              "      <td>0.0</td>\n",
              "      <td>0.0</td>\n",
              "      <td>379.0</td>\n",
              "    </tr>\n",
              "    <tr>\n",
              "      <th>15</th>\n",
              "      <td>0</td>\n",
              "      <td>34.6</td>\n",
              "      <td>23.5</td>\n",
              "      <td>118.0</td>\n",
              "      <td>4.7</td>\n",
              "      <td>1.40</td>\n",
              "      <td>121.0</td>\n",
              "      <td>1.0</td>\n",
              "      <td>49</td>\n",
              "      <td>0.0</td>\n",
              "      <td>0.0</td>\n",
              "      <td>439.0</td>\n",
              "    </tr>\n",
              "  </tbody>\n",
              "</table>\n",
              "</div>\n",
              "      <button class=\"colab-df-convert\" onclick=\"convertToInteractive('df-3682aa8f-68b2-4a6c-9f2a-00aec13f78e8')\"\n",
              "              title=\"Convert this dataframe to an interactive table.\"\n",
              "              style=\"display:none;\">\n",
              "        \n",
              "  <svg xmlns=\"http://www.w3.org/2000/svg\" height=\"24px\"viewBox=\"0 0 24 24\"\n",
              "       width=\"24px\">\n",
              "    <path d=\"M0 0h24v24H0V0z\" fill=\"none\"/>\n",
              "    <path d=\"M18.56 5.44l.94 2.06.94-2.06 2.06-.94-2.06-.94-.94-2.06-.94 2.06-2.06.94zm-11 1L8.5 8.5l.94-2.06 2.06-.94-2.06-.94L8.5 2.5l-.94 2.06-2.06.94zm10 10l.94 2.06.94-2.06 2.06-.94-2.06-.94-.94-2.06-.94 2.06-2.06.94z\"/><path d=\"M17.41 7.96l-1.37-1.37c-.4-.4-.92-.59-1.43-.59-.52 0-1.04.2-1.43.59L10.3 9.45l-7.72 7.72c-.78.78-.78 2.05 0 2.83L4 21.41c.39.39.9.59 1.41.59.51 0 1.02-.2 1.41-.59l7.78-7.78 2.81-2.81c.8-.78.8-2.07 0-2.86zM5.41 20L4 18.59l7.72-7.72 1.47 1.35L5.41 20z\"/>\n",
              "  </svg>\n",
              "      </button>\n",
              "      \n",
              "  <style>\n",
              "    .colab-df-container {\n",
              "      display:flex;\n",
              "      flex-wrap:wrap;\n",
              "      gap: 12px;\n",
              "    }\n",
              "\n",
              "    .colab-df-convert {\n",
              "      background-color: #E8F0FE;\n",
              "      border: none;\n",
              "      border-radius: 50%;\n",
              "      cursor: pointer;\n",
              "      display: none;\n",
              "      fill: #1967D2;\n",
              "      height: 32px;\n",
              "      padding: 0 0 0 0;\n",
              "      width: 32px;\n",
              "    }\n",
              "\n",
              "    .colab-df-convert:hover {\n",
              "      background-color: #E2EBFA;\n",
              "      box-shadow: 0px 1px 2px rgba(60, 64, 67, 0.3), 0px 1px 3px 1px rgba(60, 64, 67, 0.15);\n",
              "      fill: #174EA6;\n",
              "    }\n",
              "\n",
              "    [theme=dark] .colab-df-convert {\n",
              "      background-color: #3B4455;\n",
              "      fill: #D2E3FC;\n",
              "    }\n",
              "\n",
              "    [theme=dark] .colab-df-convert:hover {\n",
              "      background-color: #434B5C;\n",
              "      box-shadow: 0px 1px 3px 1px rgba(0, 0, 0, 0.15);\n",
              "      filter: drop-shadow(0px 1px 2px rgba(0, 0, 0, 0.3));\n",
              "      fill: #FFFFFF;\n",
              "    }\n",
              "  </style>\n",
              "\n",
              "      <script>\n",
              "        const buttonEl =\n",
              "          document.querySelector('#df-3682aa8f-68b2-4a6c-9f2a-00aec13f78e8 button.colab-df-convert');\n",
              "        buttonEl.style.display =\n",
              "          google.colab.kernel.accessAllowed ? 'block' : 'none';\n",
              "\n",
              "        async function convertToInteractive(key) {\n",
              "          const element = document.querySelector('#df-3682aa8f-68b2-4a6c-9f2a-00aec13f78e8');\n",
              "          const dataTable =\n",
              "            await google.colab.kernel.invokeFunction('convertToInteractive',\n",
              "                                                     [key], {});\n",
              "          if (!dataTable) return;\n",
              "\n",
              "          const docLinkHtml = 'Like what you see? Visit the ' +\n",
              "            '<a target=\"_blank\" href=https://colab.research.google.com/notebooks/data_table.ipynb>data table notebook</a>'\n",
              "            + ' to learn more about interactive tables.';\n",
              "          element.innerHTML = '';\n",
              "          dataTable['output_type'] = 'display_data';\n",
              "          await google.colab.output.renderOutput(dataTable, element);\n",
              "          const docLink = document.createElement('div');\n",
              "          docLink.innerHTML = docLinkHtml;\n",
              "          element.appendChild(docLink);\n",
              "        }\n",
              "      </script>\n",
              "    </div>\n",
              "  </div>\n",
              "  "
            ],
            "text/plain": [
              "    ini_nih   hct   bun    fbs  wbc  ...  pre_good_mrs  age  END  A_event  fat_AE\n",
              "10        0  36.5  17.2  149.0  4.6  ...           1.0   50  0.0      0.0   372.0\n",
              "11        2  32.4  10.2  110.0  4.2  ...           1.0   66  0.0      0.0   409.0\n",
              "13       10  43.8  15.3   98.0  4.7  ...           1.0   70  0.0      0.0   364.0\n",
              "14        1  27.5  27.1  227.0  4.7  ...           1.0   51  0.0      0.0   379.0\n",
              "15        0  34.6  23.5  118.0  4.7  ...           1.0   49  0.0      0.0   439.0\n",
              "\n",
              "[5 rows x 12 columns]"
            ]
          },
          "metadata": {},
          "execution_count": 322
        }
      ]
    },
    {
      "cell_type": "code",
      "source": [
        "##Dummy coding\n",
        "data4=pd.get_dummies(data3, drop_first=True,columns = ['ini_nih','pre_good_mrs','END'])"
      ],
      "metadata": {
        "id": "_Q0-agjSYwFC"
      },
      "id": "_Q0-agjSYwFC",
      "execution_count": 332,
      "outputs": []
    },
    {
      "cell_type": "code",
      "source": [
        "cols_standardize = ['hct', 'bun', 'fbs', 'wbc', 'cr','ldl','age','cr']  ## numeric "
      ],
      "metadata": {
        "id": "OksGe_zyanm8"
      },
      "id": "OksGe_zyanm8",
      "execution_count": 333,
      "outputs": []
    },
    {
      "cell_type": "code",
      "source": [
        "## standard scaling for numeric values\n",
        "from sklearn.preprocessing import StandardScaler\n",
        "standardScaler = StandardScaler()\n",
        "data4[cols_standardize] = standardScaler.fit_transform(data4[cols_standardize])"
      ],
      "metadata": {
        "id": "acZbRjBdaiKc"
      },
      "id": "acZbRjBdaiKc",
      "execution_count": 334,
      "outputs": []
    },
    {
      "cell_type": "code",
      "source": [
        "data4.head()"
      ],
      "metadata": {
        "colab": {
          "base_uri": "https://localhost:8080/",
          "height": 270
        },
        "id": "NL6xrfRdbMgY",
        "outputId": "3f93223a-81ff-4047-da0b-b1ded5561f24"
      },
      "id": "NL6xrfRdbMgY",
      "execution_count": 335,
      "outputs": [
        {
          "output_type": "execute_result",
          "data": {
            "text/html": [
              "\n",
              "  <div id=\"df-3f008aee-1cce-43f9-91c2-717656d73e98\">\n",
              "    <div class=\"colab-df-container\">\n",
              "      <div>\n",
              "<style scoped>\n",
              "    .dataframe tbody tr th:only-of-type {\n",
              "        vertical-align: middle;\n",
              "    }\n",
              "\n",
              "    .dataframe tbody tr th {\n",
              "        vertical-align: top;\n",
              "    }\n",
              "\n",
              "    .dataframe thead th {\n",
              "        text-align: right;\n",
              "    }\n",
              "</style>\n",
              "<table border=\"1\" class=\"dataframe\">\n",
              "  <thead>\n",
              "    <tr style=\"text-align: right;\">\n",
              "      <th></th>\n",
              "      <th>hct</th>\n",
              "      <th>bun</th>\n",
              "      <th>fbs</th>\n",
              "      <th>wbc</th>\n",
              "      <th>cr</th>\n",
              "      <th>ldl</th>\n",
              "      <th>age</th>\n",
              "      <th>A_event</th>\n",
              "      <th>fat_AE</th>\n",
              "      <th>ini_nih_1</th>\n",
              "      <th>ini_nih_2</th>\n",
              "      <th>ini_nih_3</th>\n",
              "      <th>ini_nih_4</th>\n",
              "      <th>ini_nih_5</th>\n",
              "      <th>ini_nih_6</th>\n",
              "      <th>ini_nih_7</th>\n",
              "      <th>ini_nih_8</th>\n",
              "      <th>ini_nih_9</th>\n",
              "      <th>ini_nih_10</th>\n",
              "      <th>ini_nih_11</th>\n",
              "      <th>ini_nih_12</th>\n",
              "      <th>ini_nih_13</th>\n",
              "      <th>ini_nih_14</th>\n",
              "      <th>ini_nih_15</th>\n",
              "      <th>ini_nih_16</th>\n",
              "      <th>ini_nih_17</th>\n",
              "      <th>ini_nih_18</th>\n",
              "      <th>ini_nih_19</th>\n",
              "      <th>ini_nih_20</th>\n",
              "      <th>ini_nih_21</th>\n",
              "      <th>ini_nih_22</th>\n",
              "      <th>ini_nih_23</th>\n",
              "      <th>ini_nih_25</th>\n",
              "      <th>ini_nih_28</th>\n",
              "      <th>ini_nih_29</th>\n",
              "      <th>pre_good_mrs_1.0</th>\n",
              "      <th>END_1.0</th>\n",
              "    </tr>\n",
              "  </thead>\n",
              "  <tbody>\n",
              "    <tr>\n",
              "      <th>10</th>\n",
              "      <td>-0.489846</td>\n",
              "      <td>0.081322</td>\n",
              "      <td>0.407540</td>\n",
              "      <td>-1.162675</td>\n",
              "      <td>-0.257619</td>\n",
              "      <td>-1.364339</td>\n",
              "      <td>-1.472073</td>\n",
              "      <td>0.0</td>\n",
              "      <td>372.0</td>\n",
              "      <td>0</td>\n",
              "      <td>0</td>\n",
              "      <td>0</td>\n",
              "      <td>0</td>\n",
              "      <td>0</td>\n",
              "      <td>0</td>\n",
              "      <td>0</td>\n",
              "      <td>0</td>\n",
              "      <td>0</td>\n",
              "      <td>0</td>\n",
              "      <td>0</td>\n",
              "      <td>0</td>\n",
              "      <td>0</td>\n",
              "      <td>0</td>\n",
              "      <td>0</td>\n",
              "      <td>0</td>\n",
              "      <td>0</td>\n",
              "      <td>0</td>\n",
              "      <td>0</td>\n",
              "      <td>0</td>\n",
              "      <td>0</td>\n",
              "      <td>0</td>\n",
              "      <td>0</td>\n",
              "      <td>0</td>\n",
              "      <td>0</td>\n",
              "      <td>0</td>\n",
              "      <td>1</td>\n",
              "      <td>0</td>\n",
              "    </tr>\n",
              "    <tr>\n",
              "      <th>11</th>\n",
              "      <td>-0.939218</td>\n",
              "      <td>-0.901593</td>\n",
              "      <td>-0.321875</td>\n",
              "      <td>-1.307783</td>\n",
              "      <td>-0.257619</td>\n",
              "      <td>-0.406616</td>\n",
              "      <td>-0.180031</td>\n",
              "      <td>0.0</td>\n",
              "      <td>409.0</td>\n",
              "      <td>0</td>\n",
              "      <td>1</td>\n",
              "      <td>0</td>\n",
              "      <td>0</td>\n",
              "      <td>0</td>\n",
              "      <td>0</td>\n",
              "      <td>0</td>\n",
              "      <td>0</td>\n",
              "      <td>0</td>\n",
              "      <td>0</td>\n",
              "      <td>0</td>\n",
              "      <td>0</td>\n",
              "      <td>0</td>\n",
              "      <td>0</td>\n",
              "      <td>0</td>\n",
              "      <td>0</td>\n",
              "      <td>0</td>\n",
              "      <td>0</td>\n",
              "      <td>0</td>\n",
              "      <td>0</td>\n",
              "      <td>0</td>\n",
              "      <td>0</td>\n",
              "      <td>0</td>\n",
              "      <td>0</td>\n",
              "      <td>0</td>\n",
              "      <td>0</td>\n",
              "      <td>1</td>\n",
              "      <td>0</td>\n",
              "    </tr>\n",
              "    <tr>\n",
              "      <th>13</th>\n",
              "      <td>0.310256</td>\n",
              "      <td>-0.185469</td>\n",
              "      <td>-0.546310</td>\n",
              "      <td>-1.126398</td>\n",
              "      <td>-0.490414</td>\n",
              "      <td>-1.231321</td>\n",
              "      <td>0.142980</td>\n",
              "      <td>0.0</td>\n",
              "      <td>364.0</td>\n",
              "      <td>0</td>\n",
              "      <td>0</td>\n",
              "      <td>0</td>\n",
              "      <td>0</td>\n",
              "      <td>0</td>\n",
              "      <td>0</td>\n",
              "      <td>0</td>\n",
              "      <td>0</td>\n",
              "      <td>0</td>\n",
              "      <td>1</td>\n",
              "      <td>0</td>\n",
              "      <td>0</td>\n",
              "      <td>0</td>\n",
              "      <td>0</td>\n",
              "      <td>0</td>\n",
              "      <td>0</td>\n",
              "      <td>0</td>\n",
              "      <td>0</td>\n",
              "      <td>0</td>\n",
              "      <td>0</td>\n",
              "      <td>0</td>\n",
              "      <td>0</td>\n",
              "      <td>0</td>\n",
              "      <td>0</td>\n",
              "      <td>0</td>\n",
              "      <td>0</td>\n",
              "      <td>1</td>\n",
              "      <td>0</td>\n",
              "    </tr>\n",
              "    <tr>\n",
              "      <th>14</th>\n",
              "      <td>-1.476272</td>\n",
              "      <td>1.471445</td>\n",
              "      <td>1.866369</td>\n",
              "      <td>-1.126398</td>\n",
              "      <td>5.923088</td>\n",
              "      <td>-1.949613</td>\n",
              "      <td>-1.391321</td>\n",
              "      <td>0.0</td>\n",
              "      <td>379.0</td>\n",
              "      <td>1</td>\n",
              "      <td>0</td>\n",
              "      <td>0</td>\n",
              "      <td>0</td>\n",
              "      <td>0</td>\n",
              "      <td>0</td>\n",
              "      <td>0</td>\n",
              "      <td>0</td>\n",
              "      <td>0</td>\n",
              "      <td>0</td>\n",
              "      <td>0</td>\n",
              "      <td>0</td>\n",
              "      <td>0</td>\n",
              "      <td>0</td>\n",
              "      <td>0</td>\n",
              "      <td>0</td>\n",
              "      <td>0</td>\n",
              "      <td>0</td>\n",
              "      <td>0</td>\n",
              "      <td>0</td>\n",
              "      <td>0</td>\n",
              "      <td>0</td>\n",
              "      <td>0</td>\n",
              "      <td>0</td>\n",
              "      <td>0</td>\n",
              "      <td>0</td>\n",
              "      <td>1</td>\n",
              "      <td>0</td>\n",
              "    </tr>\n",
              "    <tr>\n",
              "      <th>15</th>\n",
              "      <td>-0.698091</td>\n",
              "      <td>0.965946</td>\n",
              "      <td>-0.172252</td>\n",
              "      <td>-1.126398</td>\n",
              "      <td>0.557164</td>\n",
              "      <td>0.285073</td>\n",
              "      <td>-1.552826</td>\n",
              "      <td>0.0</td>\n",
              "      <td>439.0</td>\n",
              "      <td>0</td>\n",
              "      <td>0</td>\n",
              "      <td>0</td>\n",
              "      <td>0</td>\n",
              "      <td>0</td>\n",
              "      <td>0</td>\n",
              "      <td>0</td>\n",
              "      <td>0</td>\n",
              "      <td>0</td>\n",
              "      <td>0</td>\n",
              "      <td>0</td>\n",
              "      <td>0</td>\n",
              "      <td>0</td>\n",
              "      <td>0</td>\n",
              "      <td>0</td>\n",
              "      <td>0</td>\n",
              "      <td>0</td>\n",
              "      <td>0</td>\n",
              "      <td>0</td>\n",
              "      <td>0</td>\n",
              "      <td>0</td>\n",
              "      <td>0</td>\n",
              "      <td>0</td>\n",
              "      <td>0</td>\n",
              "      <td>0</td>\n",
              "      <td>0</td>\n",
              "      <td>1</td>\n",
              "      <td>0</td>\n",
              "    </tr>\n",
              "  </tbody>\n",
              "</table>\n",
              "</div>\n",
              "      <button class=\"colab-df-convert\" onclick=\"convertToInteractive('df-3f008aee-1cce-43f9-91c2-717656d73e98')\"\n",
              "              title=\"Convert this dataframe to an interactive table.\"\n",
              "              style=\"display:none;\">\n",
              "        \n",
              "  <svg xmlns=\"http://www.w3.org/2000/svg\" height=\"24px\"viewBox=\"0 0 24 24\"\n",
              "       width=\"24px\">\n",
              "    <path d=\"M0 0h24v24H0V0z\" fill=\"none\"/>\n",
              "    <path d=\"M18.56 5.44l.94 2.06.94-2.06 2.06-.94-2.06-.94-.94-2.06-.94 2.06-2.06.94zm-11 1L8.5 8.5l.94-2.06 2.06-.94-2.06-.94L8.5 2.5l-.94 2.06-2.06.94zm10 10l.94 2.06.94-2.06 2.06-.94-2.06-.94-.94-2.06-.94 2.06-2.06.94z\"/><path d=\"M17.41 7.96l-1.37-1.37c-.4-.4-.92-.59-1.43-.59-.52 0-1.04.2-1.43.59L10.3 9.45l-7.72 7.72c-.78.78-.78 2.05 0 2.83L4 21.41c.39.39.9.59 1.41.59.51 0 1.02-.2 1.41-.59l7.78-7.78 2.81-2.81c.8-.78.8-2.07 0-2.86zM5.41 20L4 18.59l7.72-7.72 1.47 1.35L5.41 20z\"/>\n",
              "  </svg>\n",
              "      </button>\n",
              "      \n",
              "  <style>\n",
              "    .colab-df-container {\n",
              "      display:flex;\n",
              "      flex-wrap:wrap;\n",
              "      gap: 12px;\n",
              "    }\n",
              "\n",
              "    .colab-df-convert {\n",
              "      background-color: #E8F0FE;\n",
              "      border: none;\n",
              "      border-radius: 50%;\n",
              "      cursor: pointer;\n",
              "      display: none;\n",
              "      fill: #1967D2;\n",
              "      height: 32px;\n",
              "      padding: 0 0 0 0;\n",
              "      width: 32px;\n",
              "    }\n",
              "\n",
              "    .colab-df-convert:hover {\n",
              "      background-color: #E2EBFA;\n",
              "      box-shadow: 0px 1px 2px rgba(60, 64, 67, 0.3), 0px 1px 3px 1px rgba(60, 64, 67, 0.15);\n",
              "      fill: #174EA6;\n",
              "    }\n",
              "\n",
              "    [theme=dark] .colab-df-convert {\n",
              "      background-color: #3B4455;\n",
              "      fill: #D2E3FC;\n",
              "    }\n",
              "\n",
              "    [theme=dark] .colab-df-convert:hover {\n",
              "      background-color: #434B5C;\n",
              "      box-shadow: 0px 1px 3px 1px rgba(0, 0, 0, 0.15);\n",
              "      filter: drop-shadow(0px 1px 2px rgba(0, 0, 0, 0.3));\n",
              "      fill: #FFFFFF;\n",
              "    }\n",
              "  </style>\n",
              "\n",
              "      <script>\n",
              "        const buttonEl =\n",
              "          document.querySelector('#df-3f008aee-1cce-43f9-91c2-717656d73e98 button.colab-df-convert');\n",
              "        buttonEl.style.display =\n",
              "          google.colab.kernel.accessAllowed ? 'block' : 'none';\n",
              "\n",
              "        async function convertToInteractive(key) {\n",
              "          const element = document.querySelector('#df-3f008aee-1cce-43f9-91c2-717656d73e98');\n",
              "          const dataTable =\n",
              "            await google.colab.kernel.invokeFunction('convertToInteractive',\n",
              "                                                     [key], {});\n",
              "          if (!dataTable) return;\n",
              "\n",
              "          const docLinkHtml = 'Like what you see? Visit the ' +\n",
              "            '<a target=\"_blank\" href=https://colab.research.google.com/notebooks/data_table.ipynb>data table notebook</a>'\n",
              "            + ' to learn more about interactive tables.';\n",
              "          element.innerHTML = '';\n",
              "          dataTable['output_type'] = 'display_data';\n",
              "          await google.colab.output.renderOutput(dataTable, element);\n",
              "          const docLink = document.createElement('div');\n",
              "          docLink.innerHTML = docLinkHtml;\n",
              "          element.appendChild(docLink);\n",
              "        }\n",
              "      </script>\n",
              "    </div>\n",
              "  </div>\n",
              "  "
            ],
            "text/plain": [
              "         hct       bun       fbs  ...  ini_nih_29  pre_good_mrs_1.0  END_1.0\n",
              "10 -0.489846  0.081322  0.407540  ...           0                 1        0\n",
              "11 -0.939218 -0.901593 -0.321875  ...           0                 1        0\n",
              "13  0.310256 -0.185469 -0.546310  ...           0                 1        0\n",
              "14 -1.476272  1.471445  1.866369  ...           0                 1        0\n",
              "15 -0.698091  0.965946 -0.172252  ...           0                 1        0\n",
              "\n",
              "[5 rows x 37 columns]"
            ]
          },
          "metadata": {},
          "execution_count": 335
        }
      ]
    },
    {
      "cell_type": "code",
      "source": [
        "from lifelines import CoxPHFitter\n",
        "from lifelines.utils import k_fold_cross_validation\n",
        "\n",
        "cox = CoxPHFitter(penalizer=0.01)\n",
        "\n",
        "#fitting\n",
        "cox.fit(data4, duration_col='fat_AE', event_col='A_event', show_progress=True)\n",
        "cox.print_summary()"
      ],
      "metadata": {
        "id": "qkv_p3iwa7-1"
      },
      "id": "qkv_p3iwa7-1",
      "execution_count": null,
      "outputs": []
    },
    {
      "cell_type": "code",
      "source": [
        "cox.plot()"
      ],
      "metadata": {
        "colab": {
          "base_uri": "https://localhost:8080/",
          "height": 303
        },
        "id": "cYykXwyFcXjn",
        "outputId": "3145f0ca-75fd-4d7e-97aa-2d01130512b9"
      },
      "id": "cYykXwyFcXjn",
      "execution_count": 343,
      "outputs": [
        {
          "output_type": "execute_result",
          "data": {
            "text/plain": [
              "<matplotlib.axes._subplots.AxesSubplot at 0x7facb0927610>"
            ]
          },
          "metadata": {},
          "execution_count": 343
        },
        {
          "output_type": "display_data",
          "data": {
            "image/png": "[encoded data removed]",
            "text/plain": [
              "<Figure size 432x288 with 1 Axes>"
            ]
          },
          "metadata": {
            "needs_background": "light"
          }
        }
      ]
    },
    {
      "cell_type": "code",
      "source": [
        "target=['A_event']"
      ],
      "metadata": {
        "id": "crXFOKVndF0V"
      },
      "id": "crXFOKVndF0V",
      "execution_count": 346,
      "outputs": []
    },
    {
      "cell_type": "code",
      "source": [
        "# splitting to X, y format\n",
        "X = data4.drop(columns=['A_event','fat_AE'],axis=1)\n",
        "y = data4[target]"
      ],
      "metadata": {
        "id": "4CXFtorQc4sk"
      },
      "id": "4CXFtorQc4sk",
      "execution_count": 349,
      "outputs": []
    },
    {
      "cell_type": "code",
      "source": [
        "# splitting between train, and validation \n",
        "(X_train, X_valid, y_train, y_valid) = train_test_split(X, y, test_size=0.3, random_state=42,stratify=y)\n",
        "(X_valid, X_test, y_valid, y_test) = train_test_split(X_valid, y_valid, test_size=0.4, random_state=42,stratify=y_valid)"
      ],
      "metadata": {
        "id": "T7rPDNUqc4ps"
      },
      "id": "T7rPDNUqc4ps",
      "execution_count": 350,
      "outputs": []
    },
    {
      "cell_type": "code",
      "source": [
        "y_train_time=data4.loc[y_train.index,'fat_AE']\n",
        "y_valid_time=data4.loc[y_valid.index,'fat_AE']\n",
        "y_test_time=data4.loc[y_test.index,'fat_AE']"
      ],
      "metadata": {
        "id": "081AQUGpc4mo"
      },
      "id": "081AQUGpc4mo",
      "execution_count": 353,
      "outputs": []
    },
    {
      "cell_type": "code",
      "source": [
        "##DF 형태 변환\n",
        "y_train_time=pd.DataFrame(y_train_time)\n",
        "y_valid_time=pd.DataFrame(y_valid_time)\n",
        "y_test_time=pd.DataFrame(y_test_time)"
      ],
      "metadata": {
        "id": "6eW__4GzdMA9"
      },
      "id": "6eW__4GzdMA9",
      "execution_count": 354,
      "outputs": []
    },
    {
      "cell_type": "code",
      "source": [
        "##time, event  concat\n",
        "y_train=pd.concat([y_train,y_train_time],axis=1)\n",
        "y_valid=pd.concat([y_valid,y_valid_time],axis=1)\n",
        "y_test=pd.concat([y_test,y_test_time],axis=1)"
      ],
      "metadata": {
        "id": "Mll9EGEUdL-F"
      },
      "id": "Mll9EGEUdL-F",
      "execution_count": 355,
      "outputs": []
    },
    {
      "cell_type": "code",
      "source": [
        "concat_data_x=pd.concat([X_train,y_train],axis=1)"
      ],
      "metadata": {
        "id": "8EHx4vTYd1Iq"
      },
      "id": "8EHx4vTYd1Iq",
      "execution_count": 358,
      "outputs": []
    },
    {
      "cell_type": "code",
      "source": [
        "from lifelines import CoxPHFitter\n",
        "from lifelines.utils import k_fold_cross_validation\n",
        "\n",
        "cox = CoxPHFitter(penalizer=0.01)\n",
        "\n",
        "#fitting\n",
        "cox_model=cox.fit(concat_data_x,duration_col='fat_AE', event_col='A_event', show_progress=True)\n",
        "cox_model.print_summary()"
      ],
      "metadata": {
        "colab": {
          "base_uri": "https://localhost:8080/",
          "height": 1000
        },
        "id": "wgeNe67jdL7U",
        "outputId": "f21a69b5-785b-47cc-d4f2-44553ee33668"
      },
      "id": "wgeNe67jdL7U",
      "execution_count": 360,
      "outputs": [
        {
          "output_type": "stream",
          "name": "stdout",
          "text": [
            "\rIteration 1: norm_delta = 2.83520, step_size = 0.9000, log_lik = -510.77987, newton_decrement = 148.91849, seconds_since_start = 0.1\n",
            "\rIteration 2: norm_delta = 96.91908, step_size = 0.9000, log_lik = -1543.57800, newton_decrement = 60145.53636, seconds_since_start = 0.2\n",
            "Iteration 3: norm_delta = 13.74286, step_size = 0.0900, log_lik = -1407.21447, newton_decrement = 1340.78589, seconds_since_start = 0.3\n",
            "Iteration 4: norm_delta = 13.31729, step_size = 0.0287, log_lik = -1331.45409, newton_decrement = 1248.18329, seconds_since_start = 0.3\n",
            "Iteration 5: norm_delta = 13.14619, step_size = 0.0121, log_lik = -1301.40404, newton_decrement = 1212.71658, seconds_since_start = 0.4\n",
            "Iteration 6: norm_delta = 13.07523, step_size = 0.0051, log_lik = -1289.02516, newton_decrement = 1198.27565, seconds_since_start = 0.5\n",
            "Iteration 7: norm_delta = 13.04548, step_size = 0.0022, log_lik = -1283.84970, newton_decrement = 1192.26516, seconds_since_start = 0.6\n",
            "Iteration 8: norm_delta = 13.03295, step_size = 0.0009, log_lik = -1281.67267, newton_decrement = 1189.74152, seconds_since_start = 0.6\n",
            "Iteration 9: norm_delta = 13.02766, step_size = 0.0004, log_lik = -1280.75459, newton_decrement = 1188.67807, seconds_since_start = 0.7\n",
            "Iteration 10: norm_delta = 13.02543, step_size = 0.0002, log_lik = -1280.36700, newton_decrement = 1188.22925, seconds_since_start = 0.8\n",
            "Iteration 11: norm_delta = 13.02448, step_size = 0.0001, log_lik = -1280.20330, newton_decrement = 1188.03972, seconds_since_start = 0.9\n",
            "Iteration 12: norm_delta = 13.02409, step_size = 0.0000, log_lik = -1280.13414, newton_decrement = 1187.95965, seconds_since_start = 0.9\n",
            "Iteration 13: norm_delta = 13.02392, step_size = 0.0000, log_lik = -1280.10492, newton_decrement = 1187.92583, seconds_since_start = 1.0\n",
            "Iteration 14: norm_delta = 13.02385, step_size = 0.0000, log_lik = -1280.09258, newton_decrement = 1187.91154, seconds_since_start = 1.1\n",
            "Convergence failed. See any warning messages.\n"
          ]
        },
        {
          "output_type": "display_data",
          "data": {
            "text/latex": "\\begin{tabular}{lrrrrrrrrrr}\n\\toprule\n{} &    coef &           exp(coef) &  se(coef) &  coef lower 95\\% &  coef upper 95\\% &  exp(coef) lower 95\\% &          exp(coef) upper 95\\% &      z &    p &  -log2(p) \\\\\ncovariate        &         &                     &           &                 &                 &                      &                              &        &      &           \\\\\n\\midrule\nhct              &   -0.11 &                0.89 &      0.19 &           -0.48 &            0.25 &                 0.62 &                         1.28 &  -0.61 & 0.54 &      0.88 \\\\\nbun              &    0.56 &                1.76 &      0.08 &            0.40 &            0.73 &                 1.49 &                         2.07 &   6.78 & 0.00 &     36.30 \\\\\nfbs              &    0.34 &                1.41 &      0.13 &            0.09 &            0.59 &                 1.09 &                         1.81 &   2.66 & 0.01 &      6.98 \\\\\nwbc              &    0.25 &                1.28 &      0.11 &            0.02 &            0.47 &                 1.02 &                         1.60 &   2.16 & 0.03 &      5.03 \\\\\ncr               &    0.27 &                1.32 &      0.08 &            0.12 &            0.43 &                 1.13 &                         1.53 &   3.56 & 0.00 &     11.42 \\\\\nldl              &    0.16 &                1.17 &      0.16 &           -0.16 &            0.48 &                 0.85 &                         1.61 &   0.99 & 0.32 &      1.62 \\\\\nage              &    0.39 &                1.48 &      0.16 &            0.07 &            0.72 &                 1.07 &                         2.05 &   2.38 & 0.02 &      5.87 \\\\\nini\\_nih\\_1        &   -0.06 &                0.95 &      0.50 &           -1.04 &            0.93 &                 0.35 &                         2.54 &  -0.11 & 0.91 &      0.13 \\\\\nini\\_nih\\_2        &   -0.25 &                0.78 &      0.50 &           -1.22 &            0.72 &                 0.30 &                         2.06 &  -0.50 & 0.62 &      0.70 \\\\\nini\\_nih\\_3        &    0.16 &                1.18 &      0.75 &           -1.31 &            1.63 &                 0.27 &                         5.13 &   0.22 & 0.83 &      0.28 \\\\\nini\\_nih\\_4        &   -0.17 &                0.84 &      0.82 &           -1.77 &            1.44 &                 0.17 &                         4.20 &  -0.21 & 0.84 &      0.26 \\\\\nini\\_nih\\_5        &    0.47 &                1.59 &      0.89 &           -1.28 &            2.21 &                 0.28 &                         9.14 &   0.52 & 0.60 &      0.74 \\\\\nini\\_nih\\_6        &   -0.06 &                0.94 &      1.10 &           -2.23 &            2.10 &                 0.11 &                         8.18 &  -0.06 & 0.95 &      0.07 \\\\\nini\\_nih\\_7        &    0.77 &                2.16 &      0.97 &           -1.14 &            2.68 &                 0.32 &                        14.52 &   0.79 & 0.43 &      1.22 \\\\\nini\\_nih\\_8        &    0.34 &                1.40 &      0.85 &           -1.32 &            2.00 &                 0.27 &                         7.38 &   0.40 & 0.69 &      0.54 \\\\\nini\\_nih\\_9        &    0.61 &                1.84 &      0.88 &           -1.11 &            2.33 &                 0.33 &                        10.23 &   0.70 & 0.49 &      1.04 \\\\\nini\\_nih\\_10       &    1.36 &                3.91 &      0.95 &           -0.50 &            3.23 &                 0.61 &                        25.19 &   1.43 & 0.15 &      2.72 \\\\\nini\\_nih\\_11       &    1.11 &                3.03 &      2.05 &           -2.91 &            5.12 &                 0.05 &                       168.11 &   0.54 & 0.59 &      0.77 \\\\\nini\\_nih\\_12       &    3.30 &               27.01 &      0.66 &            2.01 &            4.58 &                 7.48 &                        97.62 &   5.03 & 0.00 &     20.95 \\\\\nini\\_nih\\_13       &    3.93 &               51.15 &      0.81 &            2.34 &            5.53 &                10.38 &                       251.96 &   4.84 & 0.00 &     19.53 \\\\\nini\\_nih\\_14       &    4.39 &               80.47 &      0.62 &            3.17 &            5.61 &                23.79 &                       272.18 &   7.06 & 0.00 &     39.10 \\\\\nini\\_nih\\_15       &    3.03 &               20.67 &      0.71 &            1.64 &            4.41 &                 5.17 &                        82.64 &   4.28 & 0.00 &     15.73 \\\\\nini\\_nih\\_16       &    3.28 &               26.53 &      0.68 &            1.94 &            4.62 &                 6.94 &                       101.42 &   4.79 & 0.00 &     19.21 \\\\\nini\\_nih\\_17       &   -0.87 &                0.42 &      3.09 &           -6.93 &            5.19 &                 0.00 &                       179.67 &  -0.28 & 0.78 &      0.36 \\\\\nini\\_nih\\_18       &    2.71 &               15.05 &      1.82 &           -0.85 &            6.27 &                 0.43 &                       527.93 &   1.49 & 0.14 &      2.89 \\\\\nini\\_nih\\_19       &    8.14 &             3443.68 &      0.53 &            7.11 &            9.18 &              1226.36 &                      9670.03 &  15.46 & 0.00 &    176.70 \\\\\nini\\_nih\\_20       &   -0.59 &                0.56 &      9.04 &          -18.32 &           17.14 &                 0.00 &                  27745533.09 &  -0.07 & 0.95 &      0.08 \\\\\nini\\_nih\\_21       &   -2.32 &                0.10 &      9.58 &          -21.09 &           16.45 &                 0.00 &                  13927717.50 &  -0.24 & 0.81 &      0.31 \\\\\nini\\_nih\\_22       & -178.66 &                0.00 &      7.07 &         -192.53 &         -164.80 &                 0.00 &                         0.00 & -25.26 & 0.00 &    465.13 \\\\\nini\\_nih\\_23       &   -0.81 &                0.45 &      6.38 &          -13.31 &           11.69 &                 0.00 &                    119173.57 &  -0.13 & 0.90 &      0.15 \\\\\nini\\_nih\\_25       &   -0.56 &                0.57 &      8.47 &          -17.16 &           16.05 &                 0.00 &                   9330876.72 &  -0.07 & 0.95 &      0.08 \\\\\nini\\_nih\\_28       &   35.67 & 3094430481102162.00 &     10.00 &           16.07 &           55.27 &           9518429.82 & 1005995755483175478886400.00 &   3.57 & 0.00 &     11.43 \\\\\nini\\_nih\\_29       &   -0.52 &                0.59 &      9.39 &          -18.92 &           17.87 &                 0.00 &                  57824518.95 &  -0.06 & 0.96 &      0.07 \\\\\npre\\_good\\_mrs\\_1.0 &    0.65 &                1.92 &      0.37 &           -0.08 &            1.38 &                 0.93 &                         3.97 &   1.75 & 0.08 &      3.64 \\\\\nEND\\_1.0          &    0.91 &                2.49 &      0.42 &            0.10 &            1.73 &                 1.10 &                         5.63 &   2.20 & 0.03 &      5.15 \\\\\n\\bottomrule\n\\end{tabular}\n",
            "text/html": [
              "<div>\n",
              "<style scoped>\n",
              "    .dataframe tbody tr th:only-of-type {\n",
              "        vertical-align: middle;\n",
              "    }\n",
              "\n",
              "    .dataframe tbody tr th {\n",
              "        vertical-align: top;\n",
              "    }\n",
              "\n",
              "    .dataframe thead th {\n",
              "        text-align: right;\n",
              "    }\n",
              "</style>\n",
              "<table border=\"1\" class=\"dataframe\">\n",
              "  <tbody>\n",
              "    <tr>\n",
              "      <th>model</th>\n",
              "      <td>lifelines.CoxPHFitter</td>\n",
              "    </tr>\n",
              "    <tr>\n",
              "      <th>duration col</th>\n",
              "      <td>'fat_AE'</td>\n",
              "    </tr>\n",
              "    <tr>\n",
              "      <th>event col</th>\n",
              "      <td>'A_event'</td>\n",
              "    </tr>\n",
              "    <tr>\n",
              "      <th>penalizer</th>\n",
              "      <td>0.01</td>\n",
              "    </tr>\n",
              "    <tr>\n",
              "      <th>l1 ratio</th>\n",
              "      <td>0</td>\n",
              "    </tr>\n",
              "    <tr>\n",
              "      <th>baseline estimation</th>\n",
              "      <td>breslow</td>\n",
              "    </tr>\n",
              "    <tr>\n",
              "      <th>number of observations</th>\n",
              "      <td>1266</td>\n",
              "    </tr>\n",
              "    <tr>\n",
              "      <th>number of events observed</th>\n",
              "      <td>73</td>\n",
              "    </tr>\n",
              "    <tr>\n",
              "      <th>partial log-likelihood</th>\n",
              "      <td>-1280.09</td>\n",
              "    </tr>\n",
              "    <tr>\n",
              "      <th>time fit was run</th>\n",
              "      <td>2022-01-27 07:38:45 UTC</td>\n",
              "    </tr>\n",
              "  </tbody>\n",
              "</table>\n",
              "</div><table border=\"1\" class=\"dataframe\">\n",
              "  <thead>\n",
              "    <tr style=\"text-align: right;\">\n",
              "      <th style=\"min-width: 12px;\"></th>\n",
              "      <th style=\"min-width: 12px;\">coef</th>\n",
              "      <th style=\"min-width: 12px;\">exp(coef)</th>\n",
              "      <th style=\"min-width: 12px;\">se(coef)</th>\n",
              "      <th style=\"min-width: 12px;\">coef lower 95%</th>\n",
              "      <th style=\"min-width: 12px;\">coef upper 95%</th>\n",
              "      <th style=\"min-width: 12px;\">exp(coef) lower 95%</th>\n",
              "      <th style=\"min-width: 12px;\">exp(coef) upper 95%</th>\n",
              "      <th style=\"min-width: 12px;\">z</th>\n",
              "      <th style=\"min-width: 12px;\">p</th>\n",
              "      <th style=\"min-width: 12px;\">-log2(p)</th>\n",
              "    </tr>\n",
              "  </thead>\n",
              "  <tbody>\n",
              "    <tr>\n",
              "      <th>hct</th>\n",
              "      <td>-0.11</td>\n",
              "      <td>0.89</td>\n",
              "      <td>0.19</td>\n",
              "      <td>-0.48</td>\n",
              "      <td>0.25</td>\n",
              "      <td>0.62</td>\n",
              "      <td>1.28</td>\n",
              "      <td>-0.61</td>\n",
              "      <td>0.54</td>\n",
              "      <td>0.88</td>\n",
              "    </tr>\n",
              "    <tr>\n",
              "      <th>bun</th>\n",
              "      <td>0.56</td>\n",
              "      <td>1.76</td>\n",
              "      <td>0.08</td>\n",
              "      <td>0.40</td>\n",
              "      <td>0.73</td>\n",
              "      <td>1.49</td>\n",
              "      <td>2.07</td>\n",
              "      <td>6.78</td>\n",
              "      <td>&lt;0.005</td>\n",
              "      <td>36.30</td>\n",
              "    </tr>\n",
              "    <tr>\n",
              "      <th>fbs</th>\n",
              "      <td>0.34</td>\n",
              "      <td>1.41</td>\n",
              "      <td>0.13</td>\n",
              "      <td>0.09</td>\n",
              "      <td>0.59</td>\n",
              "      <td>1.09</td>\n",
              "      <td>1.81</td>\n",
              "      <td>2.66</td>\n",
              "      <td>0.01</td>\n",
              "      <td>6.98</td>\n",
              "    </tr>\n",
              "    <tr>\n",
              "      <th>wbc</th>\n",
              "      <td>0.25</td>\n",
              "      <td>1.28</td>\n",
              "      <td>0.11</td>\n",
              "      <td>0.02</td>\n",
              "      <td>0.47</td>\n",
              "      <td>1.02</td>\n",
              "      <td>1.60</td>\n",
              "      <td>2.16</td>\n",
              "      <td>0.03</td>\n",
              "      <td>5.03</td>\n",
              "    </tr>\n",
              "    <tr>\n",
              "      <th>cr</th>\n",
              "      <td>0.27</td>\n",
              "      <td>1.32</td>\n",
              "      <td>0.08</td>\n",
              "      <td>0.12</td>\n",
              "      <td>0.43</td>\n",
              "      <td>1.13</td>\n",
              "      <td>1.53</td>\n",
              "      <td>3.56</td>\n",
              "      <td>&lt;0.005</td>\n",
              "      <td>11.42</td>\n",
              "    </tr>\n",
              "    <tr>\n",
              "      <th>ldl</th>\n",
              "      <td>0.16</td>\n",
              "      <td>1.17</td>\n",
              "      <td>0.16</td>\n",
              "      <td>-0.16</td>\n",
              "      <td>0.48</td>\n",
              "      <td>0.85</td>\n",
              "      <td>1.61</td>\n",
              "      <td>0.99</td>\n",
              "      <td>0.32</td>\n",
              "      <td>1.62</td>\n",
              "    </tr>\n",
              "    <tr>\n",
              "      <th>age</th>\n",
              "      <td>0.39</td>\n",
              "      <td>1.48</td>\n",
              "      <td>0.16</td>\n",
              "      <td>0.07</td>\n",
              "      <td>0.72</td>\n",
              "      <td>1.07</td>\n",
              "      <td>2.05</td>\n",
              "      <td>2.38</td>\n",
              "      <td>0.02</td>\n",
              "      <td>5.87</td>\n",
              "    </tr>\n",
              "    <tr>\n",
              "      <th>ini_nih_1</th>\n",
              "      <td>-0.06</td>\n",
              "      <td>0.95</td>\n",
              "      <td>0.50</td>\n",
              "      <td>-1.04</td>\n",
              "      <td>0.93</td>\n",
              "      <td>0.35</td>\n",
              "      <td>2.54</td>\n",
              "      <td>-0.11</td>\n",
              "      <td>0.91</td>\n",
              "      <td>0.13</td>\n",
              "    </tr>\n",
              "    <tr>\n",
              "      <th>ini_nih_2</th>\n",
              "      <td>-0.25</td>\n",
              "      <td>0.78</td>\n",
              "      <td>0.50</td>\n",
              "      <td>-1.22</td>\n",
              "      <td>0.72</td>\n",
              "      <td>0.30</td>\n",
              "      <td>2.06</td>\n",
              "      <td>-0.50</td>\n",
              "      <td>0.62</td>\n",
              "      <td>0.70</td>\n",
              "    </tr>\n",
              "    <tr>\n",
              "      <th>ini_nih_3</th>\n",
              "      <td>0.16</td>\n",
              "      <td>1.18</td>\n",
              "      <td>0.75</td>\n",
              "      <td>-1.31</td>\n",
              "      <td>1.63</td>\n",
              "      <td>0.27</td>\n",
              "      <td>5.13</td>\n",
              "      <td>0.22</td>\n",
              "      <td>0.83</td>\n",
              "      <td>0.28</td>\n",
              "    </tr>\n",
              "    <tr>\n",
              "      <th>ini_nih_4</th>\n",
              "      <td>-0.17</td>\n",
              "      <td>0.84</td>\n",
              "      <td>0.82</td>\n",
              "      <td>-1.77</td>\n",
              "      <td>1.44</td>\n",
              "      <td>0.17</td>\n",
              "      <td>4.20</td>\n",
              "      <td>-0.21</td>\n",
              "      <td>0.84</td>\n",
              "      <td>0.26</td>\n",
              "    </tr>\n",
              "    <tr>\n",
              "      <th>ini_nih_5</th>\n",
              "      <td>0.47</td>\n",
              "      <td>1.59</td>\n",
              "      <td>0.89</td>\n",
              "      <td>-1.28</td>\n",
              "      <td>2.21</td>\n",
              "      <td>0.28</td>\n",
              "      <td>9.14</td>\n",
              "      <td>0.52</td>\n",
              "      <td>0.60</td>\n",
              "      <td>0.74</td>\n",
              "    </tr>\n",
              "    <tr>\n",
              "      <th>ini_nih_6</th>\n",
              "      <td>-0.06</td>\n",
              "      <td>0.94</td>\n",
              "      <td>1.10</td>\n",
              "      <td>-2.23</td>\n",
              "      <td>2.10</td>\n",
              "      <td>0.11</td>\n",
              "      <td>8.18</td>\n",
              "      <td>-0.06</td>\n",
              "      <td>0.95</td>\n",
              "      <td>0.07</td>\n",
              "    </tr>\n",
              "    <tr>\n",
              "      <th>ini_nih_7</th>\n",
              "      <td>0.77</td>\n",
              "      <td>2.16</td>\n",
              "      <td>0.97</td>\n",
              "      <td>-1.14</td>\n",
              "      <td>2.68</td>\n",
              "      <td>0.32</td>\n",
              "      <td>14.52</td>\n",
              "      <td>0.79</td>\n",
              "      <td>0.43</td>\n",
              "      <td>1.22</td>\n",
              "    </tr>\n",
              "    <tr>\n",
              "      <th>ini_nih_8</th>\n",
              "      <td>0.34</td>\n",
              "      <td>1.40</td>\n",
              "      <td>0.85</td>\n",
              "      <td>-1.32</td>\n",
              "      <td>2.00</td>\n",
              "      <td>0.27</td>\n",
              "      <td>7.38</td>\n",
              "      <td>0.40</td>\n",
              "      <td>0.69</td>\n",
              "      <td>0.54</td>\n",
              "    </tr>\n",
              "    <tr>\n",
              "      <th>ini_nih_9</th>\n",
              "      <td>0.61</td>\n",
              "      <td>1.84</td>\n",
              "      <td>0.88</td>\n",
              "      <td>-1.11</td>\n",
              "      <td>2.33</td>\n",
              "      <td>0.33</td>\n",
              "      <td>10.23</td>\n",
              "      <td>0.70</td>\n",
              "      <td>0.49</td>\n",
              "      <td>1.04</td>\n",
              "    </tr>\n",
              "    <tr>\n",
              "      <th>ini_nih_10</th>\n",
              "      <td>1.36</td>\n",
              "      <td>3.91</td>\n",
              "      <td>0.95</td>\n",
              "      <td>-0.50</td>\n",
              "      <td>3.23</td>\n",
              "      <td>0.61</td>\n",
              "      <td>25.19</td>\n",
              "      <td>1.43</td>\n",
              "      <td>0.15</td>\n",
              "      <td>2.72</td>\n",
              "    </tr>\n",
              "    <tr>\n",
              "      <th>ini_nih_11</th>\n",
              "      <td>1.11</td>\n",
              "      <td>3.03</td>\n",
              "      <td>2.05</td>\n",
              "      <td>-2.91</td>\n",
              "      <td>5.12</td>\n",
              "      <td>0.05</td>\n",
              "      <td>168.11</td>\n",
              "      <td>0.54</td>\n",
              "      <td>0.59</td>\n",
              "      <td>0.77</td>\n",
              "    </tr>\n",
              "    <tr>\n",
              "      <th>ini_nih_12</th>\n",
              "      <td>3.30</td>\n",
              "      <td>27.01</td>\n",
              "      <td>0.66</td>\n",
              "      <td>2.01</td>\n",
              "      <td>4.58</td>\n",
              "      <td>7.48</td>\n",
              "      <td>97.62</td>\n",
              "      <td>5.03</td>\n",
              "      <td>&lt;0.005</td>\n",
              "      <td>20.95</td>\n",
              "    </tr>\n",
              "    <tr>\n",
              "      <th>ini_nih_13</th>\n",
              "      <td>3.93</td>\n",
              "      <td>51.15</td>\n",
              "      <td>0.81</td>\n",
              "      <td>2.34</td>\n",
              "      <td>5.53</td>\n",
              "      <td>10.38</td>\n",
              "      <td>251.96</td>\n",
              "      <td>4.84</td>\n",
              "      <td>&lt;0.005</td>\n",
              "      <td>19.53</td>\n",
              "    </tr>\n",
              "    <tr>\n",
              "      <th>ini_nih_14</th>\n",
              "      <td>4.39</td>\n",
              "      <td>80.47</td>\n",
              "      <td>0.62</td>\n",
              "      <td>3.17</td>\n",
              "      <td>5.61</td>\n",
              "      <td>23.79</td>\n",
              "      <td>272.18</td>\n",
              "      <td>7.06</td>\n",
              "      <td>&lt;0.005</td>\n",
              "      <td>39.10</td>\n",
              "    </tr>\n",
              "    <tr>\n",
              "      <th>ini_nih_15</th>\n",
              "      <td>3.03</td>\n",
              "      <td>20.67</td>\n",
              "      <td>0.71</td>\n",
              "      <td>1.64</td>\n",
              "      <td>4.41</td>\n",
              "      <td>5.17</td>\n",
              "      <td>82.64</td>\n",
              "      <td>4.28</td>\n",
              "      <td>&lt;0.005</td>\n",
              "      <td>15.73</td>\n",
              "    </tr>\n",
              "    <tr>\n",
              "      <th>ini_nih_16</th>\n",
              "      <td>3.28</td>\n",
              "      <td>26.53</td>\n",
              "      <td>0.68</td>\n",
              "      <td>1.94</td>\n",
              "      <td>4.62</td>\n",
              "      <td>6.94</td>\n",
              "      <td>101.42</td>\n",
              "      <td>4.79</td>\n",
              "      <td>&lt;0.005</td>\n",
              "      <td>19.21</td>\n",
              "    </tr>\n",
              "    <tr>\n",
              "      <th>ini_nih_17</th>\n",
              "      <td>-0.87</td>\n",
              "      <td>0.42</td>\n",
              "      <td>3.09</td>\n",
              "      <td>-6.93</td>\n",
              "      <td>5.19</td>\n",
              "      <td>0.00</td>\n",
              "      <td>179.67</td>\n",
              "      <td>-0.28</td>\n",
              "      <td>0.78</td>\n",
              "      <td>0.36</td>\n",
              "    </tr>\n",
              "    <tr>\n",
              "      <th>ini_nih_18</th>\n",
              "      <td>2.71</td>\n",
              "      <td>15.05</td>\n",
              "      <td>1.82</td>\n",
              "      <td>-0.85</td>\n",
              "      <td>6.27</td>\n",
              "      <td>0.43</td>\n",
              "      <td>527.93</td>\n",
              "      <td>1.49</td>\n",
              "      <td>0.14</td>\n",
              "      <td>2.89</td>\n",
              "    </tr>\n",
              "    <tr>\n",
              "      <th>ini_nih_19</th>\n",
              "      <td>8.14</td>\n",
              "      <td>3443.68</td>\n",
              "      <td>0.53</td>\n",
              "      <td>7.11</td>\n",
              "      <td>9.18</td>\n",
              "      <td>1226.36</td>\n",
              "      <td>9670.03</td>\n",
              "      <td>15.46</td>\n",
              "      <td>&lt;0.005</td>\n",
              "      <td>176.70</td>\n",
              "    </tr>\n",
              "    <tr>\n",
              "      <th>ini_nih_20</th>\n",
              "      <td>-0.59</td>\n",
              "      <td>0.56</td>\n",
              "      <td>9.04</td>\n",
              "      <td>-18.32</td>\n",
              "      <td>17.14</td>\n",
              "      <td>0.00</td>\n",
              "      <td>2.77e+07</td>\n",
              "      <td>-0.07</td>\n",
              "      <td>0.95</td>\n",
              "      <td>0.08</td>\n",
              "    </tr>\n",
              "    <tr>\n",
              "      <th>ini_nih_21</th>\n",
              "      <td>-2.32</td>\n",
              "      <td>0.10</td>\n",
              "      <td>9.58</td>\n",
              "      <td>-21.09</td>\n",
              "      <td>16.45</td>\n",
              "      <td>0.00</td>\n",
              "      <td>1.39e+07</td>\n",
              "      <td>-0.24</td>\n",
              "      <td>0.81</td>\n",
              "      <td>0.31</td>\n",
              "    </tr>\n",
              "    <tr>\n",
              "      <th>ini_nih_22</th>\n",
              "      <td>-178.66</td>\n",
              "      <td>0.00</td>\n",
              "      <td>7.07</td>\n",
              "      <td>-192.53</td>\n",
              "      <td>-164.80</td>\n",
              "      <td>0.00</td>\n",
              "      <td>0.00</td>\n",
              "      <td>-25.26</td>\n",
              "      <td>&lt;0.005</td>\n",
              "      <td>465.13</td>\n",
              "    </tr>\n",
              "    <tr>\n",
              "      <th>ini_nih_23</th>\n",
              "      <td>-0.81</td>\n",
              "      <td>0.45</td>\n",
              "      <td>6.38</td>\n",
              "      <td>-13.31</td>\n",
              "      <td>11.69</td>\n",
              "      <td>0.00</td>\n",
              "      <td>1.19e+05</td>\n",
              "      <td>-0.13</td>\n",
              "      <td>0.90</td>\n",
              "      <td>0.15</td>\n",
              "    </tr>\n",
              "    <tr>\n",
              "      <th>ini_nih_25</th>\n",
              "      <td>-0.56</td>\n",
              "      <td>0.57</td>\n",
              "      <td>8.47</td>\n",
              "      <td>-17.16</td>\n",
              "      <td>16.05</td>\n",
              "      <td>0.00</td>\n",
              "      <td>9.33e+06</td>\n",
              "      <td>-0.07</td>\n",
              "      <td>0.95</td>\n",
              "      <td>0.08</td>\n",
              "    </tr>\n",
              "    <tr>\n",
              "      <th>ini_nih_28</th>\n",
              "      <td>35.67</td>\n",
              "      <td>3.09e+15</td>\n",
              "      <td>10.00</td>\n",
              "      <td>16.07</td>\n",
              "      <td>55.27</td>\n",
              "      <td>9.52e+06</td>\n",
              "      <td>1.01e+24</td>\n",
              "      <td>3.57</td>\n",
              "      <td>&lt;0.005</td>\n",
              "      <td>11.43</td>\n",
              "    </tr>\n",
              "    <tr>\n",
              "      <th>ini_nih_29</th>\n",
              "      <td>-0.52</td>\n",
              "      <td>0.59</td>\n",
              "      <td>9.39</td>\n",
              "      <td>-18.92</td>\n",
              "      <td>17.87</td>\n",
              "      <td>0.00</td>\n",
              "      <td>5.78e+07</td>\n",
              "      <td>-0.06</td>\n",
              "      <td>0.96</td>\n",
              "      <td>0.07</td>\n",
              "    </tr>\n",
              "    <tr>\n",
              "      <th>pre_good_mrs_1.0</th>\n",
              "      <td>0.65</td>\n",
              "      <td>1.92</td>\n",
              "      <td>0.37</td>\n",
              "      <td>-0.08</td>\n",
              "      <td>1.38</td>\n",
              "      <td>0.93</td>\n",
              "      <td>3.97</td>\n",
              "      <td>1.75</td>\n",
              "      <td>0.08</td>\n",
              "      <td>3.64</td>\n",
              "    </tr>\n",
              "    <tr>\n",
              "      <th>END_1.0</th>\n",
              "      <td>0.91</td>\n",
              "      <td>2.49</td>\n",
              "      <td>0.42</td>\n",
              "      <td>0.10</td>\n",
              "      <td>1.73</td>\n",
              "      <td>1.10</td>\n",
              "      <td>5.63</td>\n",
              "      <td>2.20</td>\n",
              "      <td>0.03</td>\n",
              "      <td>5.15</td>\n",
              "    </tr>\n",
              "  </tbody>\n",
              "</table><br><div>\n",
              "<style scoped>\n",
              "    .dataframe tbody tr th:only-of-type {\n",
              "        vertical-align: middle;\n",
              "    }\n",
              "\n",
              "    .dataframe tbody tr th {\n",
              "        vertical-align: top;\n",
              "    }\n",
              "\n",
              "    .dataframe thead th {\n",
              "        text-align: right;\n",
              "    }\n",
              "</style>\n",
              "<table border=\"1\" class=\"dataframe\">\n",
              "  <tbody>\n",
              "    <tr>\n",
              "      <th>Concordance</th>\n",
              "      <td>0.77</td>\n",
              "    </tr>\n",
              "    <tr>\n",
              "      <th>Partial AIC</th>\n",
              "      <td>2630.19</td>\n",
              "    </tr>\n",
              "    <tr>\n",
              "      <th>log-likelihood ratio test</th>\n",
              "      <td>-1538.63 on 35 df</td>\n",
              "    </tr>\n",
              "    <tr>\n",
              "      <th>-log2(p) of ll-ratio test</th>\n",
              "      <td>-0.00</td>\n",
              "    </tr>\n",
              "  </tbody>\n",
              "</table>\n",
              "</div>"
            ],
            "text/plain": [
              "<lifelines.CoxPHFitter: fitted with 1266 total observations, 1193 right-censored observations>\n",
              "             duration col = 'fat_AE'\n",
              "                event col = 'A_event'\n",
              "                penalizer = 0.01\n",
              "                 l1 ratio = 0.0\n",
              "      baseline estimation = breslow\n",
              "   number of observations = 1266\n",
              "number of events observed = 73\n",
              "   partial log-likelihood = -1280.09\n",
              "         time fit was run = 2022-01-27 07:38:45 UTC\n",
              "\n",
              "---\n",
              "                    coef  exp(coef)   se(coef)   coef lower 95%   coef upper 95%  exp(coef) lower 95%  exp(coef) upper 95%\n",
              "covariate                                                                                                                 \n",
              "hct                -0.11       0.89       0.19            -0.48             0.25                 0.62                 1.28\n",
              "bun                 0.56       1.76       0.08             0.40             0.73                 1.49                 2.07\n",
              "fbs                 0.34       1.41       0.13             0.09             0.59                 1.09                 1.81\n",
              "wbc                 0.25       1.28       0.11             0.02             0.47                 1.02                 1.60\n",
              "cr                  0.27       1.32       0.08             0.12             0.43                 1.13                 1.53\n",
              "ldl                 0.16       1.17       0.16            -0.16             0.48                 0.85                 1.61\n",
              "age                 0.39       1.48       0.16             0.07             0.72                 1.07                 2.05\n",
              "ini_nih_1          -0.06       0.95       0.50            -1.04             0.93                 0.35                 2.54\n",
              "ini_nih_2          -0.25       0.78       0.50            -1.22             0.72                 0.30                 2.06\n",
              "ini_nih_3           0.16       1.18       0.75            -1.31             1.63                 0.27                 5.13\n",
              "ini_nih_4          -0.17       0.84       0.82            -1.77             1.44                 0.17                 4.20\n",
              "ini_nih_5           0.47       1.59       0.89            -1.28             2.21                 0.28                 9.14\n",
              "ini_nih_6          -0.06       0.94       1.10            -2.23             2.10                 0.11                 8.18\n",
              "ini_nih_7           0.77       2.16       0.97            -1.14             2.68                 0.32                14.52\n",
              "ini_nih_8           0.34       1.40       0.85            -1.32             2.00                 0.27                 7.38\n",
              "ini_nih_9           0.61       1.84       0.88            -1.11             2.33                 0.33                10.23\n",
              "ini_nih_10          1.36       3.91       0.95            -0.50             3.23                 0.61                25.19\n",
              "ini_nih_11          1.11       3.03       2.05            -2.91             5.12                 0.05               168.11\n",
              "ini_nih_12          3.30      27.01       0.66             2.01             4.58                 7.48                97.62\n",
              "ini_nih_13          3.93      51.15       0.81             2.34             5.53                10.38               251.96\n",
              "ini_nih_14          4.39      80.47       0.62             3.17             5.61                23.79               272.18\n",
              "ini_nih_15          3.03      20.67       0.71             1.64             4.41                 5.17                82.64\n",
              "ini_nih_16          3.28      26.53       0.68             1.94             4.62                 6.94               101.42\n",
              "ini_nih_17         -0.87       0.42       3.09            -6.93             5.19                 0.00               179.67\n",
              "ini_nih_18          2.71      15.05       1.82            -0.85             6.27                 0.43               527.93\n",
              "ini_nih_19          8.14    3443.68       0.53             7.11             9.18              1226.36              9670.03\n",
              "ini_nih_20         -0.59       0.56       9.04           -18.32            17.14                 0.00             2.77e+07\n",
              "ini_nih_21         -2.32       0.10       9.58           -21.09            16.45                 0.00             1.39e+07\n",
              "ini_nih_22       -178.66       0.00       7.07          -192.53          -164.80                 0.00                 0.00\n",
              "ini_nih_23         -0.81       0.45       6.38           -13.31            11.69                 0.00             1.19e+05\n",
              "ini_nih_25         -0.56       0.57       8.47           -17.16            16.05                 0.00             9.33e+06\n",
              "ini_nih_28         35.67   3.09e+15      10.00            16.07            55.27             9.52e+06             1.01e+24\n",
              "ini_nih_29         -0.52       0.59       9.39           -18.92            17.87                 0.00             5.78e+07\n",
              "pre_good_mrs_1.0    0.65       1.92       0.37            -0.08             1.38                 0.93                 3.97\n",
              "END_1.0             0.91       2.49       0.42             0.10             1.73                 1.10                 5.63\n",
              "\n",
              "                      z      p   -log2(p)\n",
              "covariate                                \n",
              "hct               -0.61   0.54       0.88\n",
              "bun                6.78 <0.005      36.30\n",
              "fbs                2.66   0.01       6.98\n",
              "wbc                2.16   0.03       5.03\n",
              "cr                 3.56 <0.005      11.42\n",
              "ldl                0.99   0.32       1.62\n",
              "age                2.38   0.02       5.87\n",
              "ini_nih_1         -0.11   0.91       0.13\n",
              "ini_nih_2         -0.50   0.62       0.70\n",
              "ini_nih_3          0.22   0.83       0.28\n",
              "ini_nih_4         -0.21   0.84       0.26\n",
              "ini_nih_5          0.52   0.60       0.74\n",
              "ini_nih_6         -0.06   0.95       0.07\n",
              "ini_nih_7          0.79   0.43       1.22\n",
              "ini_nih_8          0.40   0.69       0.54\n",
              "ini_nih_9          0.70   0.49       1.04\n",
              "ini_nih_10         1.43   0.15       2.72\n",
              "ini_nih_11         0.54   0.59       0.77\n",
              "ini_nih_12         5.03 <0.005      20.95\n",
              "ini_nih_13         4.84 <0.005      19.53\n",
              "ini_nih_14         7.06 <0.005      39.10\n",
              "ini_nih_15         4.28 <0.005      15.73\n",
              "ini_nih_16         4.79 <0.005      19.21\n",
              "ini_nih_17        -0.28   0.78       0.36\n",
              "ini_nih_18         1.49   0.14       2.89\n",
              "ini_nih_19        15.46 <0.005     176.70\n",
              "ini_nih_20        -0.07   0.95       0.08\n",
              "ini_nih_21        -0.24   0.81       0.31\n",
              "ini_nih_22       -25.26 <0.005     465.13\n",
              "ini_nih_23        -0.13   0.90       0.15\n",
              "ini_nih_25        -0.07   0.95       0.08\n",
              "ini_nih_28         3.57 <0.005      11.43\n",
              "ini_nih_29        -0.06   0.96       0.07\n",
              "pre_good_mrs_1.0   1.75   0.08       3.64\n",
              "END_1.0            2.20   0.03       5.15\n",
              "---\n",
              "Concordance = 0.77\n",
              "Partial AIC = 2630.19\n",
              "log-likelihood ratio test = -1538.63 on 35 df\n",
              "-log2(p) of ll-ratio test = -0.00"
            ]
          },
          "metadata": {}
        }
      ]
    },
    {
      "cell_type": "code",
      "source": [
        "# Plot the survival function :\n",
        "d_data = X_test.iloc[0:10,:]\n",
        "cox_model.predict_survival_function(d_data).plot()"
      ],
      "metadata": {
        "colab": {
          "base_uri": "https://localhost:8080/",
          "height": 286
        },
        "id": "0L01TzNXc4gF",
        "outputId": "436b7e0e-5834-4f70-a702-86d92bd1e7b0"
      },
      "id": "0L01TzNXc4gF",
      "execution_count": 366,
      "outputs": [
        {
          "output_type": "execute_result",
          "data": {
            "text/plain": [
              "<matplotlib.axes._subplots.AxesSubplot at 0x7facb0328310>"
            ]
          },
          "metadata": {},
          "execution_count": 366
        },
        {
          "output_type": "display_data",
          "data": {
            "image/png": "[encoded data removed]",
            "text/plain": [
              "<Figure size 432x288 with 1 Axes>"
            ]
          },
          "metadata": {
            "needs_background": "light"
          }
        }
      ]
    },
    {
      "cell_type": "code",
      "source": [
        "# predicting\n",
        "cox_model.concordance_index_"
      ],
      "metadata": {
        "colab": {
          "base_uri": "https://localhost:8080/"
        },
        "id": "7CLiLK04gCLh",
        "outputId": "2799d319-b553-453b-da1b-ac2887e466d3"
      },
      "id": "7CLiLK04gCLh",
      "execution_count": 367,
      "outputs": [
        {
          "output_type": "execute_result",
          "data": {
            "text/plain": [
              "0.765004499619263"
            ]
          },
          "metadata": {},
          "execution_count": 367
        }
      ]
    },
    {
      "cell_type": "markdown",
      "source": [
        "# ML Surivival\n",
        ">Random survival forests\n",
        "\n",
        "https://square.github.io/pysurvival/models/random_survival_forest.html"
      ],
      "metadata": {
        "id": "vnhLnt1qh3Bc"
      },
      "id": "vnhLnt1qh3Bc"
    },
    {
      "cell_type": "code",
      "source": [
        "import numpy as np\n",
        "import pandas as pd\n",
        "from matplotlib import pyplot as plt\n",
        "from sklearn.model_selection import train_test_split\n",
        "from pysurvival.models.simulations import SimulationModel\n",
        "from pysurvival.models.survival_forest import RandomSurvivalForestModel\n",
        "from pysurvival.utils.metrics import concordance_index\n",
        "from pysurvival.utils.display import integrated_brier_score\n",
        "%pylab inline"
      ],
      "metadata": {
        "colab": {
          "base_uri": "https://localhost:8080/"
        },
        "id": "4ntYIJoPh2eK",
        "outputId": "b9ca516a-5a6a-4997-af6f-6dd354911709"
      },
      "id": "4ntYIJoPh2eK",
      "execution_count": 409,
      "outputs": [
        {
          "output_type": "stream",
          "name": "stdout",
          "text": [
            "Populating the interactive namespace from numpy and matplotlib\n"
          ]
        }
      ]
    },
    {
      "cell_type": "code",
      "source": [
        "concat_data_x=pd.concat([X_train,y_train],axis=1)"
      ],
      "metadata": {
        "id": "RJPD6NePkmxi"
      },
      "id": "RJPD6NePkmxi",
      "execution_count": 373,
      "outputs": []
    },
    {
      "cell_type": "code",
      "source": [
        "T_train, T_test = y_train['fat_AE'].values, y_valid['fat_AE'].values\n",
        "E_train, E_test = y_train['A_event'].values, y_valid['A_event'].values"
      ],
      "metadata": {
        "id": "OSDh_VHUmUu5"
      },
      "id": "OSDh_VHUmUu5",
      "execution_count": 374,
      "outputs": []
    },
    {
      "cell_type": "code",
      "source": [
        "#### Creating an instance of the Conditional model and fitting the data.\n",
        "# Building the model\n",
        "rsf = RandomSurvivalForestModel(num_trees=200)\n",
        "rsf.fit(X_train, T_train, E_train,\n",
        "        max_features=\"sqrt\", max_depth=5, min_node_size=20)"
      ],
      "metadata": {
        "colab": {
          "base_uri": "https://localhost:8080/"
        },
        "id": "K__lL-pxl7SU",
        "outputId": "a320f1f7-39dc-4f6b-b15d-e7756700f7b9"
      },
      "id": "K__lL-pxl7SU",
      "execution_count": 375,
      "outputs": [
        {
          "output_type": "execute_result",
          "data": {
            "text/plain": [
              "RandomSurvivalForestModel"
            ]
          },
          "metadata": {},
          "execution_count": 375
        }
      ]
    },
    {
      "cell_type": "code",
      "source": [
        "####- Cross Validation / Model Performances\n",
        "c_index = concordance_index(rsf, X_valid, T_test, E_test) #0.68\n",
        "print('C-index: {:.2f}'.format(c_index))"
      ],
      "metadata": {
        "colab": {
          "base_uri": "https://localhost:8080/"
        },
        "id": "XfBpSFwLmw3v",
        "outputId": "4e6d4776-949c-4610-e09e-94c0133627cd"
      },
      "id": "XfBpSFwLmw3v",
      "execution_count": 376,
      "outputs": [
        {
          "output_type": "stream",
          "name": "stdout",
          "text": [
            "C-index: 0.68\n"
          ]
        }
      ]
    },
    {
      "cell_type": "code",
      "source": [
        "ibs = integrated_brier_score(rsf, X_valid, T_test, E_test, t_max=30,\n",
        "            figure_size=(20, 6.5) )   ## 0.006805980046706943\n",
        "print('IBS: {:.2f}'.format(ibs))"
      ],
      "metadata": {
        "colab": {
          "base_uri": "https://localhost:8080/",
          "height": 423
        },
        "id": "esV5vXt5mw1B",
        "outputId": "e644934f-b3d8-44ec-c043-f5de9b26dddf"
      },
      "id": "esV5vXt5mw1B",
      "execution_count": 377,
      "outputs": [
        {
          "output_type": "display_data",
          "data": {
            "image/png": "[encoded data removed]",
            "text/plain": [
              "<Figure size 1440x468 with 1 Axes>"
            ]
          },
          "metadata": {
            "needs_background": "light"
          }
        },
        {
          "output_type": "stream",
          "name": "stdout",
          "text": [
            "IBS: 0.01\n"
          ]
        }
      ]
    },
    {
      "cell_type": "markdown",
      "source": [
        "# Deep Learning Surivival\n",
        "> Cox-PH DeepSurv\n"
      ],
      "metadata": {
        "id": "MEM2eqsbUHLd"
      },
      "id": "MEM2eqsbUHLd"
    },
    {
      "cell_type": "code",
      "source": [
        "pip install torchtuples"
      ],
      "metadata": {
        "colab": {
          "base_uri": "https://localhost:8080/"
        },
        "id": "yJB_9mQg_PC_",
        "outputId": "fa62ae4b-dcda-4927-eeec-4fb395f87a7a"
      },
      "id": "yJB_9mQg_PC_",
      "execution_count": 124,
      "outputs": [
        {
          "output_type": "stream",
          "name": "stdout",
          "text": [
            "Collecting torchtuples\n",
            "  Downloading torchtuples-0.2.2-py3-none-any.whl (41 kB)\n",
            "\u001b[?25l\r\u001b[K     |███████▉                        | 10 kB 25.2 MB/s eta 0:00:01\r\u001b[K     |███████████████▋                | 20 kB 11.1 MB/s eta 0:00:01\r\u001b[K     |███████████████████████▌        | 30 kB 9.1 MB/s eta 0:00:01\r\u001b[K     |███████████████████████████████▎| 40 kB 8.3 MB/s eta 0:00:01\r\u001b[K     |████████████████████████████████| 41 kB 329 kB/s \n",
            "\u001b[?25hRequirement already satisfied: pandas>=0.24.2 in /usr/local/lib/python3.7/dist-packages (from torchtuples) (1.1.5)\n",
            "Requirement already satisfied: matplotlib>=3.0.3 in /usr/local/lib/python3.7/dist-packages (from torchtuples) (3.2.2)\n",
            "Requirement already satisfied: numpy>=1.15.4 in /usr/local/lib/python3.7/dist-packages (from torchtuples) (1.19.5)\n",
            "Requirement already satisfied: cycler>=0.10 in /usr/local/lib/python3.7/dist-packages (from matplotlib>=3.0.3->torchtuples) (0.11.0)\n",
            "Requirement already satisfied: kiwisolver>=1.0.1 in /usr/local/lib/python3.7/dist-packages (from matplotlib>=3.0.3->torchtuples) (1.3.2)\n",
            "Requirement already satisfied: python-dateutil>=2.1 in /usr/local/lib/python3.7/dist-packages (from matplotlib>=3.0.3->torchtuples) (2.8.2)\n",
            "Requirement already satisfied: pyparsing!=2.0.4,!=2.1.2,!=2.1.6,>=2.0.1 in /usr/local/lib/python3.7/dist-packages (from matplotlib>=3.0.3->torchtuples) (3.0.7)\n",
            "Requirement already satisfied: pytz>=2017.2 in /usr/local/lib/python3.7/dist-packages (from pandas>=0.24.2->torchtuples) (2018.9)\n",
            "Requirement already satisfied: six>=1.5 in /usr/local/lib/python3.7/dist-packages (from python-dateutil>=2.1->matplotlib>=3.0.3->torchtuples) (1.15.0)\n",
            "Installing collected packages: torchtuples\n",
            "Successfully installed torchtuples-0.2.2\n"
          ]
        }
      ]
    },
    {
      "cell_type": "code",
      "source": [
        "pip install pycox"
      ],
      "metadata": {
        "colab": {
          "base_uri": "https://localhost:8080/"
        },
        "id": "j_VG1v_i_QWW",
        "outputId": "632ca386-1d2c-4dc8-ce27-65e469c5c979"
      },
      "id": "j_VG1v_i_QWW",
      "execution_count": 126,
      "outputs": [
        {
          "output_type": "stream",
          "name": "stdout",
          "text": [
            "Requirement already satisfied: typing-extensions>=3.6.4 in /usr/local/lib/python3.7/dist-packages (from importlib-metadata->py7zr>=0.11.3->pycox) (3.10.0.2)\n",
            "Requirement already satisfied: zipp>=0.5 in /usr/local/lib/python3.7/dist-packages (from importlib-metadata->py7zr>=0.11.3->pycox) (3.7.0)\n",
            "Installing collected packages: texttable, pyzstd, pyppmd, pycryptodomex, pybcj, multivolumefile, brotli, py7zr, pycox\n",
            "Successfully installed brotli-1.0.9 multivolumefile-0.2.3 py7zr-0.17.3 pybcj-0.5.0 pycox-0.2.3 pycryptodomex-3.13.0 pyppmd-0.17.3 pyzstd-0.15.2 texttable-1.6.4\n"
          ]
        }
      ]
    },
    {
      "cell_type": "code",
      "source": [
        "import numpy as np\n",
        "import matplotlib.pyplot as plt\n",
        "from sklearn.preprocessing import StandardScaler\n",
        "from sklearn_pandas import DataFrameMapper\n",
        "\n",
        "import torch\n",
        "import torchtuples as tt\n",
        "\n",
        "from pycox.datasets import metabric\n",
        "from pycox.models import CoxPH\n",
        "from pycox.evaluation import EvalSurv"
      ],
      "metadata": {
        "id": "G7AqfwWs_HLj"
      },
      "id": "G7AqfwWs_HLj",
      "execution_count": 127,
      "outputs": []
    },
    {
      "cell_type": "code",
      "source": [
        "np.random.seed(1234)\n",
        "_ = torch.manual_seed(123)"
      ],
      "metadata": {
        "id": "97q3w47e_HIv"
      },
      "id": "97q3w47e_HIv",
      "execution_count": 128,
      "outputs": []
    },
    {
      "cell_type": "markdown",
      "source": [
        "df_train, df_test,df_val"
      ],
      "metadata": {
        "id": "SyDLbWxSAD7O"
      },
      "id": "SyDLbWxSAD7O"
    },
    {
      "cell_type": "code",
      "source": [
        "columns_stratify=['ini_nih','hct','bun','fbs','wbc','cr','ldl','pre_good_mrs','age','END']\n",
        "target=['A_event']"
      ],
      "metadata": {
        "id": "DXnkwDIbBg5S"
      },
      "id": "DXnkwDIbBg5S",
      "execution_count": 142,
      "outputs": []
    },
    {
      "cell_type": "code",
      "source": [
        "# splitting to X, y format\n",
        "X = data3[columns_stratify]\n",
        "y = data3[target]"
      ],
      "metadata": {
        "id": "QWT6QccSBy4Y"
      },
      "id": "QWT6QccSBy4Y",
      "execution_count": 385,
      "outputs": []
    },
    {
      "cell_type": "code",
      "source": [
        "# splitting between train, and validation \n",
        "(X_train, X_valid, y_train, y_valid) = train_test_split(X, y, test_size=0.3, random_state=42,stratify=y)\n",
        "(X_valid, X_test, y_valid, y_test) = train_test_split(X_valid, y_valid, test_size=0.4, random_state=42,stratify=y_valid)"
      ],
      "metadata": {
        "id": "JBC3FcBkB9CM"
      },
      "id": "JBC3FcBkB9CM",
      "execution_count": 386,
      "outputs": []
    },
    {
      "cell_type": "code",
      "source": [
        "data3.tail()"
      ],
      "metadata": {
        "colab": {
          "base_uri": "https://localhost:8080/",
          "height": 206
        },
        "id": "avl-ebI8NXMh",
        "outputId": "89dff34a-ba6e-4b85-e28d-13701d7bea19"
      },
      "id": "avl-ebI8NXMh",
      "execution_count": 199,
      "outputs": [
        {
          "output_type": "execute_result",
          "data": {
            "text/html": [
              "\n",
              "  <div id=\"df-ea125348-b9d7-4c4e-a4a1-c57badcf111e\">\n",
              "    <div class=\"colab-df-container\">\n",
              "      <div>\n",
              "<style scoped>\n",
              "    .dataframe tbody tr th:only-of-type {\n",
              "        vertical-align: middle;\n",
              "    }\n",
              "\n",
              "    .dataframe tbody tr th {\n",
              "        vertical-align: top;\n",
              "    }\n",
              "\n",
              "    .dataframe thead th {\n",
              "        text-align: right;\n",
              "    }\n",
              "</style>\n",
              "<table border=\"1\" class=\"dataframe\">\n",
              "  <thead>\n",
              "    <tr style=\"text-align: right;\">\n",
              "      <th></th>\n",
              "      <th>ini_nih</th>\n",
              "      <th>hct</th>\n",
              "      <th>bun</th>\n",
              "      <th>fbs</th>\n",
              "      <th>wbc</th>\n",
              "      <th>cr</th>\n",
              "      <th>ldl</th>\n",
              "      <th>pre_good_mrs</th>\n",
              "      <th>age</th>\n",
              "      <th>END</th>\n",
              "      <th>A_event</th>\n",
              "      <th>fat_AE</th>\n",
              "    </tr>\n",
              "  </thead>\n",
              "  <tbody>\n",
              "    <tr>\n",
              "      <th>3328</th>\n",
              "      <td>3</td>\n",
              "      <td>41.30</td>\n",
              "      <td>29.8</td>\n",
              "      <td>84.0</td>\n",
              "      <td>10.9</td>\n",
              "      <td>1.1</td>\n",
              "      <td>111.0</td>\n",
              "      <td>1.0</td>\n",
              "      <td>82</td>\n",
              "      <td>0.0</td>\n",
              "      <td>0.0</td>\n",
              "      <td>423.0</td>\n",
              "    </tr>\n",
              "    <tr>\n",
              "      <th>3330</th>\n",
              "      <td>3</td>\n",
              "      <td>37.40</td>\n",
              "      <td>15.2</td>\n",
              "      <td>205.0</td>\n",
              "      <td>5.9</td>\n",
              "      <td>0.5</td>\n",
              "      <td>130.0</td>\n",
              "      <td>1.0</td>\n",
              "      <td>61</td>\n",
              "      <td>0.0</td>\n",
              "      <td>0.0</td>\n",
              "      <td>415.0</td>\n",
              "    </tr>\n",
              "    <tr>\n",
              "      <th>3333</th>\n",
              "      <td>2</td>\n",
              "      <td>1.12</td>\n",
              "      <td>13.8</td>\n",
              "      <td>91.0</td>\n",
              "      <td>9.2</td>\n",
              "      <td>0.4</td>\n",
              "      <td>113.0</td>\n",
              "      <td>1.0</td>\n",
              "      <td>50</td>\n",
              "      <td>0.0</td>\n",
              "      <td>0.0</td>\n",
              "      <td>385.0</td>\n",
              "    </tr>\n",
              "    <tr>\n",
              "      <th>3334</th>\n",
              "      <td>0</td>\n",
              "      <td>45.60</td>\n",
              "      <td>9.6</td>\n",
              "      <td>100.0</td>\n",
              "      <td>6.4</td>\n",
              "      <td>0.7</td>\n",
              "      <td>111.0</td>\n",
              "      <td>1.0</td>\n",
              "      <td>37</td>\n",
              "      <td>0.0</td>\n",
              "      <td>0.0</td>\n",
              "      <td>404.0</td>\n",
              "    </tr>\n",
              "    <tr>\n",
              "      <th>3336</th>\n",
              "      <td>6</td>\n",
              "      <td>39.40</td>\n",
              "      <td>14.7</td>\n",
              "      <td>121.0</td>\n",
              "      <td>9.3</td>\n",
              "      <td>0.8</td>\n",
              "      <td>193.0</td>\n",
              "      <td>1.0</td>\n",
              "      <td>80</td>\n",
              "      <td>1.0</td>\n",
              "      <td>0.0</td>\n",
              "      <td>361.0</td>\n",
              "    </tr>\n",
              "  </tbody>\n",
              "</table>\n",
              "</div>\n",
              "      <button class=\"colab-df-convert\" onclick=\"convertToInteractive('df-ea125348-b9d7-4c4e-a4a1-c57badcf111e')\"\n",
              "              title=\"Convert this dataframe to an interactive table.\"\n",
              "              style=\"display:none;\">\n",
              "        \n",
              "  <svg xmlns=\"http://www.w3.org/2000/svg\" height=\"24px\"viewBox=\"0 0 24 24\"\n",
              "       width=\"24px\">\n",
              "    <path d=\"M0 0h24v24H0V0z\" fill=\"none\"/>\n",
              "    <path d=\"M18.56 5.44l.94 2.06.94-2.06 2.06-.94-2.06-.94-.94-2.06-.94 2.06-2.06.94zm-11 1L8.5 8.5l.94-2.06 2.06-.94-2.06-.94L8.5 2.5l-.94 2.06-2.06.94zm10 10l.94 2.06.94-2.06 2.06-.94-2.06-.94-.94-2.06-.94 2.06-2.06.94z\"/><path d=\"M17.41 7.96l-1.37-1.37c-.4-.4-.92-.59-1.43-.59-.52 0-1.04.2-1.43.59L10.3 9.45l-7.72 7.72c-.78.78-.78 2.05 0 2.83L4 21.41c.39.39.9.59 1.41.59.51 0 1.02-.2 1.41-.59l7.78-7.78 2.81-2.81c.8-.78.8-2.07 0-2.86zM5.41 20L4 18.59l7.72-7.72 1.47 1.35L5.41 20z\"/>\n",
              "  </svg>\n",
              "      </button>\n",
              "      \n",
              "  <style>\n",
              "    .colab-df-container {\n",
              "      display:flex;\n",
              "      flex-wrap:wrap;\n",
              "      gap: 12px;\n",
              "    }\n",
              "\n",
              "    .colab-df-convert {\n",
              "      background-color: #E8F0FE;\n",
              "      border: none;\n",
              "      border-radius: 50%;\n",
              "      cursor: pointer;\n",
              "      display: none;\n",
              "      fill: #1967D2;\n",
              "      height: 32px;\n",
              "      padding: 0 0 0 0;\n",
              "      width: 32px;\n",
              "    }\n",
              "\n",
              "    .colab-df-convert:hover {\n",
              "      background-color: #E2EBFA;\n",
              "      box-shadow: 0px 1px 2px rgba(60, 64, 67, 0.3), 0px 1px 3px 1px rgba(60, 64, 67, 0.15);\n",
              "      fill: #174EA6;\n",
              "    }\n",
              "\n",
              "    [theme=dark] .colab-df-convert {\n",
              "      background-color: #3B4455;\n",
              "      fill: #D2E3FC;\n",
              "    }\n",
              "\n",
              "    [theme=dark] .colab-df-convert:hover {\n",
              "      background-color: #434B5C;\n",
              "      box-shadow: 0px 1px 3px 1px rgba(0, 0, 0, 0.15);\n",
              "      filter: drop-shadow(0px 1px 2px rgba(0, 0, 0, 0.3));\n",
              "      fill: #FFFFFF;\n",
              "    }\n",
              "  </style>\n",
              "\n",
              "      <script>\n",
              "        const buttonEl =\n",
              "          document.querySelector('#df-ea125348-b9d7-4c4e-a4a1-c57badcf111e button.colab-df-convert');\n",
              "        buttonEl.style.display =\n",
              "          google.colab.kernel.accessAllowed ? 'block' : 'none';\n",
              "\n",
              "        async function convertToInteractive(key) {\n",
              "          const element = document.querySelector('#df-ea125348-b9d7-4c4e-a4a1-c57badcf111e');\n",
              "          const dataTable =\n",
              "            await google.colab.kernel.invokeFunction('convertToInteractive',\n",
              "                                                     [key], {});\n",
              "          if (!dataTable) return;\n",
              "\n",
              "          const docLinkHtml = 'Like what you see? Visit the ' +\n",
              "            '<a target=\"_blank\" href=https://colab.research.google.com/notebooks/data_table.ipynb>data table notebook</a>'\n",
              "            + ' to learn more about interactive tables.';\n",
              "          element.innerHTML = '';\n",
              "          dataTable['output_type'] = 'display_data';\n",
              "          await google.colab.output.renderOutput(dataTable, element);\n",
              "          const docLink = document.createElement('div');\n",
              "          docLink.innerHTML = docLinkHtml;\n",
              "          element.appendChild(docLink);\n",
              "        }\n",
              "      </script>\n",
              "    </div>\n",
              "  </div>\n",
              "  "
            ],
            "text/plain": [
              "      ini_nih    hct   bun    fbs  ...  age  END  A_event  fat_AE\n",
              "3328        3  41.30  29.8   84.0  ...   82  0.0      0.0   423.0\n",
              "3330        3  37.40  15.2  205.0  ...   61  0.0      0.0   415.0\n",
              "3333        2   1.12  13.8   91.0  ...   50  0.0      0.0   385.0\n",
              "3334        0  45.60   9.6  100.0  ...   37  0.0      0.0   404.0\n",
              "3336        6  39.40  14.7  121.0  ...   80  1.0      0.0   361.0\n",
              "\n",
              "[5 rows x 12 columns]"
            ]
          },
          "metadata": {},
          "execution_count": 199
        }
      ]
    },
    {
      "cell_type": "code",
      "source": [
        "### X데이터 셋 standardize -> numpy array 형태로 \n",
        "cols_standardize = ['hct', 'bun', 'fbs', 'wbc', 'cr','ldl','age','cr']  ## numeric \n",
        "cols_leave = ['ini_nih', 'END'] ## category\n",
        "\n",
        "standardize = [([col], StandardScaler()) for col in cols_standardize]\n",
        "leave = [(col, None) for col in cols_leave]\n",
        "\n",
        "x_mapper = DataFrameMapper(standardize + leave)"
      ],
      "metadata": {
        "id": "0mF5xermNSMR"
      },
      "id": "0mF5xermNSMR",
      "execution_count": 387,
      "outputs": []
    },
    {
      "cell_type": "code",
      "source": [
        "x_train = x_mapper.fit_transform(X_train).astype('float32')\n",
        "x_val = x_mapper.transform(X_valid).astype('float32')\n",
        "x_test = x_mapper.transform(X_test).astype('float32')"
      ],
      "metadata": {
        "id": "fIQHp65bN0pc"
      },
      "id": "fIQHp65bN0pc",
      "execution_count": 388,
      "outputs": []
    },
    {
      "cell_type": "code",
      "source": [
        "y_train_time=data3.loc[y_train.index,'fat_AE']\n",
        "y_valid_time=data3.loc[y_valid.index,'fat_AE']\n",
        "y_test_time=data3.loc[y_test.index,'fat_AE']"
      ],
      "metadata": {
        "id": "0ny1tr4pDe5Z"
      },
      "id": "0ny1tr4pDe5Z",
      "execution_count": 389,
      "outputs": []
    },
    {
      "cell_type": "code",
      "source": [
        "##DF 형태 변환\n",
        "y_train_time=pd.DataFrame(y_train_time)\n",
        "y_valid_time=pd.DataFrame(y_valid_time)\n",
        "y_test_time=pd.DataFrame(y_test_time)"
      ],
      "metadata": {
        "id": "2TFo-beJJWsm"
      },
      "id": "2TFo-beJJWsm",
      "execution_count": 390,
      "outputs": []
    },
    {
      "cell_type": "code",
      "source": [
        "##time, event  concat\n",
        "y_train=pd.concat([y_train,y_train_time],axis=1)\n",
        "y_valid=pd.concat([y_valid,y_valid_time],axis=1)\n",
        "y_test=pd.concat([y_test,y_test_time],axis=1)"
      ],
      "metadata": {
        "id": "0V82jxeuMDXE"
      },
      "id": "0V82jxeuMDXE",
      "execution_count": 391,
      "outputs": []
    },
    {
      "cell_type": "code",
      "source": [
        "get_target = lambda x: (x['fat_AE'].values, x['A_event'].values)\n",
        "y_train = get_target(y_train)\n",
        "y_val = get_target(y_valid)\n",
        "durations_test, events_test = get_target(y_test)\n",
        "val = x_val, y_val"
      ],
      "metadata": {
        "id": "bLGyR-qIC7pa"
      },
      "id": "bLGyR-qIC7pa",
      "execution_count": 392,
      "outputs": []
    },
    {
      "cell_type": "code",
      "source": [
        "y_train"
      ],
      "metadata": {
        "colab": {
          "base_uri": "https://localhost:8080/"
        },
        "id": "CiBr4mQ9NC3d",
        "outputId": "d82b150f-c758-46db-8c48-281df4644d4a"
      },
      "id": "CiBr4mQ9NC3d",
      "execution_count": 224,
      "outputs": [
        {
          "output_type": "execute_result",
          "data": {
            "text/plain": [
              "(array([367., 377., 369., ..., 371., 376., 324.]),\n",
              " array([0., 0., 0., ..., 0., 0., 0.]))"
            ]
          },
          "metadata": {},
          "execution_count": 224
        }
      ]
    },
    {
      "cell_type": "code",
      "source": [
        "in_features = X_train.shape[1]\n",
        "num_nodes = [32, 32]\n",
        "out_features = 1\n",
        "batch_norm = True\n",
        "dropout = 0.1\n",
        "output_bias = False\n",
        "\n",
        "net = tt.practical.MLPVanilla(in_features, num_nodes, out_features, batch_norm,\n",
        "                              dropout, output_bias=output_bias)"
      ],
      "metadata": {
        "id": "ICESqgyHMv8x"
      },
      "id": "ICESqgyHMv8x",
      "execution_count": 226,
      "outputs": []
    },
    {
      "cell_type": "code",
      "source": [
        "model = CoxPH(net, tt.optim.Adam)"
      ],
      "metadata": {
        "id": "wvkEGU0qMv6R"
      },
      "id": "wvkEGU0qMv6R",
      "execution_count": 227,
      "outputs": []
    },
    {
      "cell_type": "code",
      "source": [
        "batch_size = 256\n",
        "lrfinder = model.lr_finder(x_train, y_train, batch_size, tolerance=10)\n",
        "_ = lrfinder.plot()"
      ],
      "metadata": {
        "colab": {
          "base_uri": "https://localhost:8080/",
          "height": 291
        },
        "id": "l2wGCM9gMv3d",
        "outputId": "8804ca7a-0c2b-485d-a309-cc411b16b5e7"
      },
      "id": "l2wGCM9gMv3d",
      "execution_count": 228,
      "outputs": [
        {
          "output_type": "display_data",
          "data": {
            "image/png": "[encoded data removed]",
            "text/plain": [
              "<Figure size 432x288 with 1 Axes>"
            ]
          },
          "metadata": {
            "needs_background": "light"
          }
        }
      ]
    },
    {
      "cell_type": "code",
      "source": [
        "lrfinder.get_best_lr() #0.07390722033525823  "
      ],
      "metadata": {
        "colab": {
          "base_uri": "https://localhost:8080/"
        },
        "id": "8eSSY7ieKP81",
        "outputId": "792054b8-b253-4c70-bc7f-71485d87562c"
      },
      "id": "8eSSY7ieKP81",
      "execution_count": 229,
      "outputs": [
        {
          "output_type": "execute_result",
          "data": {
            "text/plain": [
              "0.07390722033525823"
            ]
          },
          "metadata": {},
          "execution_count": 229
        }
      ]
    },
    {
      "cell_type": "code",
      "source": [
        "model.optimizer.set_lr(0.01)"
      ],
      "metadata": {
        "id": "t3UaJ8IdKP6E"
      },
      "id": "t3UaJ8IdKP6E",
      "execution_count": 230,
      "outputs": []
    },
    {
      "cell_type": "code",
      "source": [
        "epochs = 100\n",
        "callbacks = [tt.callbacks.EarlyStopping()]\n",
        "verbose = True"
      ],
      "metadata": {
        "id": "Q44fWm2POWDg"
      },
      "id": "Q44fWm2POWDg",
      "execution_count": 233,
      "outputs": []
    },
    {
      "cell_type": "code",
      "source": [
        "%%time\n",
        "log = model.fit(x_train, y_train, batch_size, epochs, callbacks, verbose,\n",
        "                val_data=val, val_batch_size=batch_size)"
      ],
      "metadata": {
        "colab": {
          "base_uri": "https://localhost:8080/"
        },
        "id": "xyAB6joDOWBH",
        "outputId": "1c7fcd58-e4dc-4fe4-94e6-34ce6f9d0b01"
      },
      "id": "xyAB6joDOWBH",
      "execution_count": 234,
      "outputs": [
        {
          "output_type": "stream",
          "name": "stdout",
          "text": [
            "18:\t[0s / 0s],\t\ttrain_loss: 4.5930,\tval_loss: 4.9019\n",
            "19:\t[0s / 0s],\t\ttrain_loss: 4.4525,\tval_loss: 4.9335\n",
            "20:\t[0s / 0s],\t\ttrain_loss: 4.4532,\tval_loss: 4.9831\n",
            "21:\t[0s / 0s],\t\ttrain_loss: 4.3718,\tval_loss: 5.0399\n",
            "22:\t[0s / 0s],\t\ttrain_loss: 4.4531,\tval_loss: 5.1394\n",
            "23:\t[0s / 0s],\t\ttrain_loss: 4.4114,\tval_loss: 5.0904\n",
            "24:\t[0s / 0s],\t\ttrain_loss: 4.3697,\tval_loss: 5.0740\n",
            "25:\t[0s / 0s],\t\ttrain_loss: 4.3122,\tval_loss: 5.1147\n",
            "26:\t[0s / 0s],\t\ttrain_loss: 4.2607,\tval_loss: 5.0849\n",
            "27:\t[0s / 0s],\t\ttrain_loss: 4.3763,\tval_loss: 5.0988\n",
            "28:\t[0s / 0s],\t\ttrain_loss: 4.1964,\tval_loss: 5.2045\n",
            "CPU times: user 335 ms, sys: 6.04 ms, total: 341 ms\n",
            "Wall time: 367 ms\n"
          ]
        }
      ]
    },
    {
      "cell_type": "code",
      "source": [
        "_ = log.plot()"
      ],
      "metadata": {
        "colab": {
          "base_uri": "https://localhost:8080/",
          "height": 270
        },
        "id": "gHbS1i5tOV-I",
        "outputId": "44f0e0c1-2259-499a-c087-0ae1030d0f1c"
      },
      "id": "gHbS1i5tOV-I",
      "execution_count": 235,
      "outputs": [
        {
          "output_type": "display_data",
          "data": {
            "image/png": "[encoded data removed]",
            "text/plain": [
              "<Figure size 432x288 with 1 Axes>"
            ]
          },
          "metadata": {
            "needs_background": "light"
          }
        }
      ]
    },
    {
      "cell_type": "code",
      "source": [
        "model.partial_log_likelihood(*val).mean() ## -5.609597682952881"
      ],
      "metadata": {
        "colab": {
          "base_uri": "https://localhost:8080/"
        },
        "id": "nee1hB3wOV7n",
        "outputId": "dc6b8f38-385f-4542-8485-32cb81f495f0"
      },
      "id": "nee1hB3wOV7n",
      "execution_count": 236,
      "outputs": [
        {
          "output_type": "execute_result",
          "data": {
            "text/plain": [
              "-5.609597682952881"
            ]
          },
          "metadata": {},
          "execution_count": 236
        }
      ]
    },
    {
      "cell_type": "code",
      "source": [
        "_ = model.compute_baseline_hazards()"
      ],
      "metadata": {
        "id": "xCf07RZ-OV4Y"
      },
      "id": "xCf07RZ-OV4Y",
      "execution_count": 237,
      "outputs": []
    },
    {
      "cell_type": "code",
      "source": [
        "_"
      ],
      "metadata": {
        "colab": {
          "base_uri": "https://localhost:8080/"
        },
        "id": "awgSW7WaPszN",
        "outputId": "484d77d3-f4f0-4528-8369-6ca45e2a4a4e"
      },
      "id": "awgSW7WaPszN",
      "execution_count": 238,
      "outputs": [
        {
          "output_type": "execute_result",
          "data": {
            "text/plain": [
              "duration\n",
              "0.0      0.000428\n",
              "1.0      0.000428\n",
              "2.0      0.000000\n",
              "3.0      0.000429\n",
              "4.0      0.000435\n",
              "           ...   \n",
              "468.0    0.000000\n",
              "473.0    0.000000\n",
              "476.0    0.000000\n",
              "481.0    0.000000\n",
              "725.0    0.000000\n",
              "Name: baseline_hazards, Length: 202, dtype: float64"
            ]
          },
          "metadata": {},
          "execution_count": 238
        }
      ]
    },
    {
      "cell_type": "code",
      "source": [
        "surv = model.predict_surv_df(x_test)"
      ],
      "metadata": {
        "id": "UmQOl1TuP22x"
      },
      "id": "UmQOl1TuP22x",
      "execution_count": 240,
      "outputs": []
    },
    {
      "cell_type": "code",
      "source": [
        "y_test.max()"
      ],
      "metadata": {
        "colab": {
          "base_uri": "https://localhost:8080/"
        },
        "id": "Qs5oUaMuU1Qg",
        "outputId": "44ab342d-ee97-493e-9431-ff63a6876814"
      },
      "id": "Qs5oUaMuU1Qg",
      "execution_count": 311,
      "outputs": [
        {
          "output_type": "execute_result",
          "data": {
            "text/plain": [
              "A_event      1.0\n",
              "fat_AE     534.0\n",
              "dtype: float64"
            ]
          },
          "metadata": {},
          "execution_count": 311
        }
      ]
    },
    {
      "cell_type": "code",
      "source": [
        "y_test.mean()"
      ],
      "metadata": {
        "colab": {
          "base_uri": "https://localhost:8080/"
        },
        "id": "20yeF7-RVGMD",
        "outputId": "b6a50635-6566-4ca4-c8b6-fd66dd0e377a"
      },
      "id": "20yeF7-RVGMD",
      "execution_count": 312,
      "outputs": [
        {
          "output_type": "execute_result",
          "data": {
            "text/plain": [
              "A_event      0.059633\n",
              "fat_AE     359.151376\n",
              "dtype: float64"
            ]
          },
          "metadata": {},
          "execution_count": 312
        }
      ]
    },
    {
      "cell_type": "code",
      "source": [
        "surv.iloc[:, :10].plot()\n",
        "plt.ylabel('S(t | x)')\n",
        "_ = plt.xlabel('Time')"
      ],
      "metadata": {
        "colab": {
          "base_uri": "https://localhost:8080/",
          "height": 285
        },
        "id": "REtAGpX9Pswd",
        "outputId": "ccaa448c-17fd-4ff5-97ee-1553003422b1"
      },
      "id": "REtAGpX9Pswd",
      "execution_count": 247,
      "outputs": [
        {
          "output_type": "display_data",
          "data": {
            "image/png": "[encoded data removed]",
            "text/plain": [
              "<Figure size 432x288 with 1 Axes>"
            ]
          },
          "metadata": {
            "needs_background": "light"
          }
        }
      ]
    },
    {
      "cell_type": "code",
      "source": [
        "ev = EvalSurv(surv, durations_test, events_test, censor_surv='km')"
      ],
      "metadata": {
        "id": "2Q0MofnMPst6"
      },
      "id": "2Q0MofnMPst6",
      "execution_count": 242,
      "outputs": []
    },
    {
      "cell_type": "code",
      "source": [
        "ev.concordance_td() ## 0.5967682702901211"
      ],
      "metadata": {
        "colab": {
          "base_uri": "https://localhost:8080/"
        },
        "id": "PWg6Avb7Psq3",
        "outputId": "adb97d74-393f-4b3d-b484-2742754ad8ce"
      },
      "id": "PWg6Avb7Psq3",
      "execution_count": 243,
      "outputs": [
        {
          "output_type": "execute_result",
          "data": {
            "text/plain": [
              "0.5967682702901211"
            ]
          },
          "metadata": {},
          "execution_count": 243
        }
      ]
    },
    {
      "cell_type": "code",
      "source": [
        "time_grid = np.linspace(durations_test.min(), durations_test.max(), 100)\n",
        "_ = ev.brier_score(time_grid).plot()"
      ],
      "metadata": {
        "colab": {
          "base_uri": "https://localhost:8080/",
          "height": 268
        },
        "id": "d9ARD1GUPsoa",
        "outputId": "e104a5dd-0907-4faf-b1ed-3af3ccec2a67"
      },
      "id": "d9ARD1GUPsoa",
      "execution_count": 244,
      "outputs": [
        {
          "output_type": "display_data",
          "data": {
            "image/png": "[encoded data removed]",
            "text/plain": [
              "<Figure size 432x288 with 1 Axes>"
            ]
          },
          "metadata": {
            "needs_background": "light"
          }
        }
      ]
    },
    {
      "cell_type": "code",
      "source": [
        "ev.integrated_brier_score(time_grid)"
      ],
      "metadata": {
        "colab": {
          "base_uri": "https://localhost:8080/"
        },
        "id": "2C2Y2PNTQC9G",
        "outputId": "d8240d84-c777-4ba1-9e3e-21f370a6374a"
      },
      "id": "2C2Y2PNTQC9G",
      "execution_count": 245,
      "outputs": [
        {
          "output_type": "execute_result",
          "data": {
            "text/plain": [
              "0.04804608192116522"
            ]
          },
          "metadata": {},
          "execution_count": 245
        }
      ]
    },
    {
      "cell_type": "code",
      "source": [
        "ev.integrated_nbll(time_grid)"
      ],
      "metadata": {
        "colab": {
          "base_uri": "https://localhost:8080/"
        },
        "id": "gTfBmf4ZQC7X",
        "outputId": "4a05e77a-a08c-47cc-a758-3aa65a92cd50"
      },
      "id": "gTfBmf4ZQC7X",
      "execution_count": 246,
      "outputs": [
        {
          "output_type": "execute_result",
          "data": {
            "text/plain": [
              "0.1995778672186549"
            ]
          },
          "metadata": {},
          "execution_count": 246
        }
      ]
    },
    {
      "cell_type": "markdown",
      "source": [
        "2차시도"
      ],
      "metadata": {
        "id": "pezdlpMqSGcP"
      },
      "id": "pezdlpMqSGcP"
    },
    {
      "cell_type": "code",
      "source": [
        "in_features = X_train.shape[1]\n",
        "num_nodes = [32, 32]\n",
        "out_features = 1\n",
        "batch_norm = True\n",
        "dropout = 0.1\n",
        "output_bias = False\n",
        "\n",
        "net = tt.practical.MLPVanilla(in_features, num_nodes, out_features, batch_norm,\n",
        "                              dropout, output_bias=output_bias)"
      ],
      "metadata": {
        "id": "5C89o3KsQC44"
      },
      "id": "5C89o3KsQC44",
      "execution_count": 395,
      "outputs": []
    },
    {
      "cell_type": "code",
      "source": [
        "model2= CoxPH(net, tt.optim.Adam)"
      ],
      "metadata": {
        "id": "oMKl_FVbQC0s"
      },
      "id": "oMKl_FVbQC0s",
      "execution_count": 396,
      "outputs": []
    },
    {
      "cell_type": "code",
      "source": [
        "batch_size = 256\n",
        "lrfinder = model2.lr_finder(x_train, y_train, batch_size, tolerance=10)\n",
        "_ = lrfinder.plot()"
      ],
      "metadata": {
        "colab": {
          "base_uri": "https://localhost:8080/",
          "height": 291
        },
        "id": "iBf30jGuQCx-",
        "outputId": "6c5fd574-0954-478a-d733-eb35f5b38bc4"
      },
      "id": "iBf30jGuQCx-",
      "execution_count": 397,
      "outputs": [
        {
          "output_type": "display_data",
          "data": {
            "image/png": "[encoded data removed]",
            "text/plain": [
              "<Figure size 432x288 with 1 Axes>"
            ]
          },
          "metadata": {
            "needs_background": "light"
          }
        }
      ]
    },
    {
      "cell_type": "code",
      "source": [
        "lrfinder.get_best_lr()"
      ],
      "metadata": {
        "colab": {
          "base_uri": "https://localhost:8080/"
        },
        "id": "KCg7J7itSRau",
        "outputId": "7696185f-1352-41c5-c9df-797956b25bfd"
      },
      "id": "KCg7J7itSRau",
      "execution_count": 398,
      "outputs": [
        {
          "output_type": "execute_result",
          "data": {
            "text/plain": [
              "0.029150530628251937"
            ]
          },
          "metadata": {},
          "execution_count": 398
        }
      ]
    },
    {
      "cell_type": "code",
      "source": [
        "model2.optimizer.set_lr(0.029150530628251937)"
      ],
      "metadata": {
        "id": "sWLaBIQqSRYW"
      },
      "id": "sWLaBIQqSRYW",
      "execution_count": 399,
      "outputs": []
    },
    {
      "cell_type": "code",
      "source": [
        "epochs = 300\n",
        "callbacks = [tt.callbacks.EarlyStopping()]\n",
        "verbose = True"
      ],
      "metadata": {
        "id": "DfD1iiL6SRVX"
      },
      "id": "DfD1iiL6SRVX",
      "execution_count": 400,
      "outputs": []
    },
    {
      "cell_type": "code",
      "source": [
        "%%time\n",
        "log = model2.fit(x_train, y_train, batch_size, epochs, callbacks, verbose,\n",
        "                val_data=val, val_batch_size=batch_size)"
      ],
      "metadata": {
        "colab": {
          "base_uri": "https://localhost:8080/"
        },
        "id": "NgrzrGDtSRSv",
        "outputId": "b29b48cb-0679-46ac-fd4d-ad1ebde34d20"
      },
      "id": "NgrzrGDtSRSv",
      "execution_count": 401,
      "outputs": [
        {
          "output_type": "stream",
          "name": "stdout",
          "text": [
            "0:\t[0s / 0s],\t\ttrain_loss: 5.1850,\tval_loss: 4.6788\n",
            "1:\t[0s / 0s],\t\ttrain_loss: 4.9545,\tval_loss: 4.6493\n",
            "2:\t[0s / 0s],\t\ttrain_loss: 4.6756,\tval_loss: 5.0354\n",
            "3:\t[0s / 0s],\t\ttrain_loss: 4.5973,\tval_loss: 4.7600\n",
            "4:\t[0s / 0s],\t\ttrain_loss: 4.6974,\tval_loss: 4.7132\n",
            "5:\t[0s / 0s],\t\ttrain_loss: 4.4542,\tval_loss: 4.8642\n",
            "6:\t[0s / 0s],\t\ttrain_loss: 4.5205,\tval_loss: 4.7252\n",
            "7:\t[0s / 0s],\t\ttrain_loss: 4.4307,\tval_loss: 4.7129\n",
            "8:\t[0s / 0s],\t\ttrain_loss: 4.5372,\tval_loss: 4.7802\n",
            "9:\t[0s / 0s],\t\ttrain_loss: 4.2517,\tval_loss: 4.8170\n",
            "10:\t[0s / 0s],\t\ttrain_loss: 4.2334,\tval_loss: 5.0752\n",
            "11:\t[0s / 0s],\t\ttrain_loss: 4.3073,\tval_loss: 5.0161\n",
            "CPU times: user 254 ms, sys: 1.87 ms, total: 255 ms\n",
            "Wall time: 254 ms\n"
          ]
        }
      ]
    },
    {
      "cell_type": "code",
      "source": [
        "_ = log.plot()"
      ],
      "metadata": {
        "colab": {
          "base_uri": "https://localhost:8080/",
          "height": 268
        },
        "id": "b2Oc-QY5SRP-",
        "outputId": "bfa7577c-36be-4fc3-9ae8-00aa688d404d"
      },
      "id": "b2Oc-QY5SRP-",
      "execution_count": 402,
      "outputs": [
        {
          "output_type": "display_data",
          "data": {
            "image/png": "[encoded data removed]",
            "text/plain": [
              "<Figure size 432x288 with 1 Axes>"
            ]
          },
          "metadata": {
            "needs_background": "light"
          }
        }
      ]
    },
    {
      "cell_type": "code",
      "source": [
        "model2.partial_log_likelihood(*val).mean()"
      ],
      "metadata": {
        "colab": {
          "base_uri": "https://localhost:8080/"
        },
        "id": "hkWsUWjwSRNf",
        "outputId": "1bf16587-3229-40e0-f9d6-61bc5826b261"
      },
      "id": "hkWsUWjwSRNf",
      "execution_count": 403,
      "outputs": [
        {
          "output_type": "execute_result",
          "data": {
            "text/plain": [
              "-5.4723639488220215"
            ]
          },
          "metadata": {},
          "execution_count": 403
        }
      ]
    },
    {
      "cell_type": "code",
      "source": [
        "_ = model2.compute_baseline_hazards()"
      ],
      "metadata": {
        "id": "1gMOoTrVSRKw"
      },
      "id": "1gMOoTrVSRKw",
      "execution_count": 404,
      "outputs": []
    },
    {
      "cell_type": "code",
      "source": [
        "surv = model2.predict_surv_df(x_test)"
      ],
      "metadata": {
        "id": "KI3ZdNTNSRH4"
      },
      "id": "KI3ZdNTNSRH4",
      "execution_count": 405,
      "outputs": []
    },
    {
      "cell_type": "code",
      "source": [
        "surv.iloc[:, :5].plot()\n",
        "plt.ylabel('S(t | x)')\n",
        "_ = plt.xlabel('Time')"
      ],
      "metadata": {
        "colab": {
          "base_uri": "https://localhost:8080/",
          "height": 285
        },
        "id": "07tbyIY-SRE5",
        "outputId": "9e15e411-8d02-4833-e189-1ce326d7ccd2"
      },
      "id": "07tbyIY-SRE5",
      "execution_count": 406,
      "outputs": [
        {
          "output_type": "display_data",
          "data": {
            "image/png": "[encoded data removed]",
            "text/plain": [
              "<Figure size 432x288 with 1 Axes>"
            ]
          },
          "metadata": {
            "needs_background": "light"
          }
        }
      ]
    },
    {
      "cell_type": "code",
      "source": [
        "ev = EvalSurv(surv, durations_test, events_test, censor_surv='km')"
      ],
      "metadata": {
        "id": "fY1xzgKbS8ua"
      },
      "id": "fY1xzgKbS8ua",
      "execution_count": 407,
      "outputs": []
    },
    {
      "cell_type": "code",
      "source": [
        "ev.concordance_td() ## 0.596401028277635"
      ],
      "metadata": {
        "colab": {
          "base_uri": "https://localhost:8080/"
        },
        "id": "FOXv2metS8rV",
        "outputId": "ae11a06a-c4b4-4a15-fb2a-2f8e72494729"
      },
      "id": "FOXv2metS8rV",
      "execution_count": 408,
      "outputs": [
        {
          "output_type": "execute_result",
          "data": {
            "text/plain": [
              "0.596401028277635"
            ]
          },
          "metadata": {},
          "execution_count": 408
        }
      ]
    }
  ],
  "metadata": {
    "kernelspec": {
      "display_name": "Python 3",
      "language": "python",
      "name": "python3"
    },
    "language_info": {
      "codemirror_mode": {
        "name": "ipython",
        "version": 3
      },
      "file_extension": ".py",
      "mimetype": "text/x-python",
      "name": "python",
      "nbconvert_exporter": "python",
      "pygments_lexer": "ipython3",
      "version": "3.8.8"
    },
    "colab": {
      "name": "survival_analysis.ipynb",
      "provenance": [],
      "collapsed_sections": []
    },
    "accelerator": "GPU"
  },
  "nbformat": 4,
  "nbformat_minor": 5
}